{
 "cells": [
  {
   "cell_type": "code",
   "execution_count": null,
   "id": "370d747b-de76-4c42-aefb-6723780950c0",
   "metadata": {},
   "outputs": [],
   "source": [
    "#Examine both Open Meteo and Tomorrow and decide which one you'd prefer to use. What drove your decision?\n",
    "\n",
    "#I am using Tomorrow, the homepage is more user-friendly, I was able to see the log in option instantly, it also allows me to search using the\n",
    "#city or location name while the other API requires coordinates.\n"
   ]
  },
  {
   "cell_type": "code",
   "execution_count": null,
   "id": "dc5e6561-e1b0-4451-b104-ae5a5a17cf28",
   "metadata": {},
   "outputs": [],
   "source": [
    "#What is the URL to the documentation? (You don't use code for this one)\n",
    "\n",
    "url = https://docs.tomorrow.io/reference/intro/getting-started\n"
   ]
  },
  {
   "cell_type": "code",
   "execution_count": 9,
   "id": "bf2977c9-9369-41bd-9382-823b1f79d5f5",
   "metadata": {},
   "outputs": [
    {
     "data": {
      "text/plain": [
       "<Response [200]>"
      ]
     },
     "execution_count": 9,
     "metadata": {},
     "output_type": "execute_result"
    }
   ],
   "source": [
    "#Make a request for the current weather where you are born, or somewhere you've lived.\n",
    "\n",
    "import requests \n",
    "url = 'https://api.tomorrow.io/v4/weather/realtime?location=Islamabad&apikey=k1GXn8BfP9Qtuas2LRE65c6YdHZvjTvv' \n",
    "isloo = requests.get(url)\n",
    "isloo\n"
   ]
  },
  {
   "cell_type": "code",
   "execution_count": 10,
   "id": "a694c574-4437-4e8c-9d5e-dea85f777168",
   "metadata": {},
   "outputs": [
    {
     "data": {
      "text/plain": [
       "{'data': {'time': '2024-11-10T16:01:00Z',\n",
       "  'values': {'cloudBase': 0.46,\n",
       "   'cloudCeiling': None,\n",
       "   'cloudCover': 19,\n",
       "   'dewPoint': 15.5,\n",
       "   'freezingRainIntensity': 0,\n",
       "   'humidity': 79,\n",
       "   'precipitationProbability': 0,\n",
       "   'pressureSurfaceLevel': 962.98,\n",
       "   'rainIntensity': 0,\n",
       "   'sleetIntensity': 0,\n",
       "   'snowIntensity': 0,\n",
       "   'temperature': 19.13,\n",
       "   'temperatureApparent': 19.13,\n",
       "   'uvHealthConcern': 0,\n",
       "   'uvIndex': 0,\n",
       "   'visibility': 16,\n",
       "   'weatherCode': 1100,\n",
       "   'windDirection': 52.19,\n",
       "   'windGust': 2.69,\n",
       "   'windSpeed': 1.5}},\n",
       " 'location': {'lat': 33.635738372802734,\n",
       "  'lon': 73.20311737060547,\n",
       "  'name': 'وفاقی دارالحکومت اسلام آباد, پاکستان',\n",
       "  'type': 'administrative'}}"
      ]
     },
     "execution_count": 10,
     "metadata": {},
     "output_type": "execute_result"
    }
   ],
   "source": [
    "isloo = isloo.json()\n",
    "isloo"
   ]
  },
  {
   "cell_type": "code",
   "execution_count": 13,
   "id": "9a2a3681-7ba7-4579-9988-e7800caf57aa",
   "metadata": {},
   "outputs": [
    {
     "data": {
      "text/plain": [
       "dict_keys(['data', 'location'])"
      ]
     },
     "execution_count": 13,
     "metadata": {},
     "output_type": "execute_result"
    }
   ],
   "source": [
    "#Print out the country this location is in.\n",
    "\n",
    "isloo.keys()"
   ]
  },
  {
   "cell_type": "code",
   "execution_count": 12,
   "id": "891a91bf-8b52-4e27-8e65-ac40e5f874ba",
   "metadata": {},
   "outputs": [
    {
     "data": {
      "text/plain": [
       "'وفاقی دارالحکومت اسلام آباد, پاکستان'"
      ]
     },
     "execution_count": 12,
     "metadata": {},
     "output_type": "execute_result"
    }
   ],
   "source": [
    "isloo['location']['name'] #interesting, it has the country name in the national language, Urdu."
   ]
  },
  {
   "cell_type": "code",
   "execution_count": 18,
   "id": "ae1310d8-72ab-44d3-8431-4d238ddb95af",
   "metadata": {},
   "outputs": [
    {
     "name": "stdout",
     "output_type": "stream",
     "text": [
      "The temperature is 19.13 degree Celsius.\n",
      "The difference in feels like and actual temperature is 0.0\n",
      "It feels 0.0 degrees colder.\n"
     ]
    }
   ],
   "source": [
    "#Print out the difference between the current temperature and how warm it feels. \n",
    "difference = abs(isloo['data']['values']['temperature'] - isloo['data']['values']['temperatureApparent']) \n",
    "print(\"The temperature is\", isloo['data']['values']['temperature'], \"degree Celsius.\")\n",
    "print(\"The difference in feels like and actual temperature is\", difference)\n",
    "if isloo['data']['values']['temperatureApparent'] > isloo['data']['values']['temperature']:\n",
    "    print(\"It feels\", difference, \"degrees warmer.\")\n",
    "else: \n",
    "    print(\"It feels\", difference, \"degrees colder.\")\n"
   ]
  },
  {
   "cell_type": "code",
   "execution_count": 22,
   "id": "92326f3b-51d5-4019-ba37-2f5b2afe473c",
   "metadata": {},
   "outputs": [
    {
     "data": {
      "text/plain": [
       "<Response [200]>"
      ]
     },
     "execution_count": 22,
     "metadata": {},
     "output_type": "execute_result"
    }
   ],
   "source": [
    "#What's the current temperature at Heathrow International Airport? Use the airport's IATA code to search.\n",
    "\n",
    "import requests\n",
    "url= 'https://api.tomorrow.io/v4/weather/realtime?location=LHR&apikey=k1GXn8BfP9Qtuas2LRE65c6YdHZvjTvv'\n",
    "lhr = requests.get(url)\n",
    "lhr"
   ]
  },
  {
   "cell_type": "code",
   "execution_count": 23,
   "id": "af614f13-ddb2-41a1-bcd8-770cb7dd6160",
   "metadata": {},
   "outputs": [
    {
     "data": {
      "text/plain": [
       "{'data': {'time': '2024-11-10T16:10:00Z',\n",
       "  'values': {'cloudBase': None,\n",
       "   'cloudCeiling': None,\n",
       "   'cloudCover': 0,\n",
       "   'dewPoint': 18.31,\n",
       "   'freezingRainIntensity': 0,\n",
       "   'humidity': 77,\n",
       "   'precipitationProbability': 0,\n",
       "   'pressureSurfaceLevel': 990.67,\n",
       "   'rainIntensity': 0,\n",
       "   'sleetIntensity': 0,\n",
       "   'snowIntensity': 0,\n",
       "   'temperature': 22.63,\n",
       "   'temperatureApparent': 22.63,\n",
       "   'uvHealthConcern': 0,\n",
       "   'uvIndex': 0,\n",
       "   'visibility': 15,\n",
       "   'weatherCode': 1000,\n",
       "   'windDirection': 56.19,\n",
       "   'windGust': 1.63,\n",
       "   'windSpeed': 1.31}},\n",
       " 'location': {'lat': 31.56568145751953,\n",
       "  'lon': 74.3141860961914,\n",
       "  'name': 'لاہور, تحصیل لاہور شہر, ضلع لاہور, لاہور ڈویژن, پنجاب, 54500, پاکستان',\n",
       "  'type': 'city'}}"
      ]
     },
     "execution_count": 23,
     "metadata": {},
     "output_type": "execute_result"
    }
   ],
   "source": [
    "lhr = lhr.json()\n",
    "lhr"
   ]
  },
  {
   "cell_type": "code",
   "execution_count": 25,
   "id": "25c7569e-f6b6-42fb-9afa-34e3b555ed61",
   "metadata": {},
   "outputs": [],
   "source": [
    "#interesting! LHR which is the London Heathrow Airport's IATA is also the abbreviation for Lahore, a city in Pakistan\n",
    "#this gave me Lahore's weather instead, umm, gotta figure out how to get Heathrow Airport."
   ]
  },
  {
   "cell_type": "code",
   "execution_count": 26,
   "id": "6c7c9ab2-cd70-41ef-8527-b901ac309e7e",
   "metadata": {},
   "outputs": [
    {
     "data": {
      "text/plain": [
       "<Response [200]>"
      ]
     },
     "execution_count": 26,
     "metadata": {},
     "output_type": "execute_result"
    }
   ],
   "source": [
    "url = 'https://api.tomorrow.io/v4/weather/realtime?location=London%20Heathrow%20Airport&apikey=k1GXn8BfP9Qtuas2LRE65c6YdHZvjTvv' \n",
    "london = requests.get(url)\n",
    "london\n",
    "\n"
   ]
  },
  {
   "cell_type": "code",
   "execution_count": 27,
   "id": "f7a1c87c-c3ac-49f8-9158-1ee481ca60a9",
   "metadata": {},
   "outputs": [
    {
     "data": {
      "text/plain": [
       "{'data': {'time': '2024-11-10T16:15:00Z',\n",
       "  'values': {'cloudBase': 0.23,\n",
       "   'cloudCeiling': 0.23,\n",
       "   'cloudCover': 100,\n",
       "   'dewPoint': 9.69,\n",
       "   'freezingRainIntensity': 0,\n",
       "   'humidity': 88,\n",
       "   'precipitationProbability': 0,\n",
       "   'pressureSurfaceLevel': 1025.68,\n",
       "   'rainIntensity': 0,\n",
       "   'sleetIntensity': 0,\n",
       "   'snowIntensity': 0,\n",
       "   'temperature': 11.63,\n",
       "   'temperatureApparent': 11.63,\n",
       "   'uvHealthConcern': 0,\n",
       "   'uvIndex': 0,\n",
       "   'visibility': 16,\n",
       "   'weatherCode': 1001,\n",
       "   'windDirection': 223.88,\n",
       "   'windGust': 3.31,\n",
       "   'windSpeed': 2}},\n",
       " 'location': {'lat': 51.46773910522461,\n",
       "  'lon': -0.45878008008003235,\n",
       "  'name': 'London Heathrow Airport, Northern Perimeter Road, London Borough of Hillingdon, London, Greater London, England, TW6 2RN, United Kingdom',\n",
       "  'type': 'aerodrome'}}"
      ]
     },
     "execution_count": 27,
     "metadata": {},
     "output_type": "execute_result"
    }
   ],
   "source": [
    "london = london.json()\n",
    "london"
   ]
  },
  {
   "cell_type": "code",
   "execution_count": 30,
   "id": "a0e368dc-16db-4f20-83f7-9a014866a11b",
   "metadata": {},
   "outputs": [
    {
     "name": "stdout",
     "output_type": "stream",
     "text": [
      "The current temperature at London Heathrow Airport is 11.63 .\n"
     ]
    }
   ],
   "source": [
    "print(\"The current temperature at London Heathrow Airport is\", london['data']['values']['temperature'],\".\")"
   ]
  },
  {
   "cell_type": "code",
   "execution_count": 42,
   "id": "828e86cb-31e7-42af-9209-7ee4ae6681a1",
   "metadata": {},
   "outputs": [],
   "source": [
    "url = 'https://api.tomorrow.io/v4/timelines?location=TW6&fields=temperature&timesteps=1d&startTime=2024-11-10T00:00:00Z&endTime=2024-11-12T00:00:00Z&apikey=k1GXn8BfP9Qtuas2LRE65c6YdHZvjTvv'\n",
    "\n",
    "#url for three days weather forecast at Heathrow Airport"
   ]
  },
  {
   "cell_type": "code",
   "execution_count": 43,
   "id": "70d7bfdc-ad11-4b65-b3f8-15960a65b898",
   "metadata": {},
   "outputs": [
    {
     "data": {
      "text/plain": [
       "<Response [200]>"
      ]
     },
     "execution_count": 43,
     "metadata": {},
     "output_type": "execute_result"
    }
   ],
   "source": [
    "#Print the date of each of the 3 days you're getting a forecast for.\n",
    "heathrow_forecast=requests.get(url)\n",
    "heathrow_forecast"
   ]
  },
  {
   "cell_type": "code",
   "execution_count": 45,
   "id": "91039353-c7ae-4e2d-8733-492bbec28561",
   "metadata": {},
   "outputs": [
    {
     "data": {
      "text/plain": [
       "{'data': {'timelines': [{'timestep': '1d',\n",
       "    'endTime': '2024-11-12T06:00:00Z',\n",
       "    'startTime': '2024-11-09T06:00:00Z',\n",
       "    'intervals': [{'startTime': '2024-11-09T06:00:00Z',\n",
       "      'values': {'temperature': 9.31}},\n",
       "     {'startTime': '2024-11-10T06:00:00Z', 'values': {'temperature': 11.86}},\n",
       "     {'startTime': '2024-11-11T06:00:00Z', 'values': {'temperature': 11.36}},\n",
       "     {'startTime': '2024-11-12T06:00:00Z',\n",
       "      'values': {'temperature': 11.68}}]}]}}"
      ]
     },
     "execution_count": 45,
     "metadata": {},
     "output_type": "execute_result"
    }
   ],
   "source": [
    "heathrow_forecast = heathrow_forecast.json()\n",
    "heathrow_forecast"
   ]
  },
  {
   "cell_type": "code",
   "execution_count": 46,
   "id": "6763d5e6-bfce-463e-945e-3a997fb8dedf",
   "metadata": {},
   "outputs": [
    {
     "data": {
      "text/plain": [
       "dict_keys(['data'])"
      ]
     },
     "execution_count": 46,
     "metadata": {},
     "output_type": "execute_result"
    }
   ],
   "source": [
    "heathrow_forecast.keys()\n"
   ]
  },
  {
   "cell_type": "code",
   "execution_count": 56,
   "id": "69072783-dd6e-478d-99e6-3237cea1ca47",
   "metadata": {},
   "outputs": [
    {
     "name": "stdout",
     "output_type": "stream",
     "text": [
      "The date is 2024-11-09\n",
      "The date is 2024-11-10\n",
      "The date is 2024-11-11\n",
      "The date is 2024-11-12\n"
     ]
    }
   ],
   "source": [
    "for timeline in heathrow_forecast['data']['timelines']:\n",
    "        for interval in timeline['intervals']:\n",
    "                    print(\"The date is\", interval['startTime'].split('T')[0])\n"
   ]
  },
  {
   "cell_type": "code",
   "execution_count": 61,
   "id": "91568f60-198e-4dc9-9727-01ddadd0d526",
   "metadata": {},
   "outputs": [
    {
     "name": "stdout",
     "output_type": "stream",
     "text": [
      "The maximum temperature on 2024-11-09 is 9.31 °C\n",
      "The maximum temperature on 2024-11-10 is 11.86 °C\n",
      "The maximum temperature on 2024-11-11 is 11.36 °C\n",
      "The maximum temperature on 2024-11-12 is 11.68 °C\n"
     ]
    }
   ],
   "source": [
    "#Print the maximum temperature of each of the days.\n",
    "\n",
    "temperature_data = [(interval['startTime'].split('T')[0], interval['values']['temperature'])\n",
    "                    for timeline in heathrow_forecast['data']['timelines'] \n",
    "                    for interval in timeline['intervals']]\n",
    "for date, temp in temperature_data:\n",
    "    print(\"The maximum temperature on\", date, \"is\", temp, \"°C\")\n"
   ]
  },
  {
   "cell_type": "code",
   "execution_count": 68,
   "id": "7c4f3345-3d2c-4aa0-a5e4-218c7dd011c5",
   "metadata": {},
   "outputs": [
    {
     "name": "stdout",
     "output_type": "stream",
     "text": [
      "The day with the highest maximum temperature is 2024-11-10 with a max temperature of 11.86 °C.\n"
     ]
    }
   ],
   "source": [
    "#Print only the day with the highest maximum temperature.\n",
    "highest_max_temp = float('-inf')  \n",
    "day_with_highest_temp = None\n",
    "\n",
    "for date, temp in temperature_data:\n",
    "    if temp > highest_max_temp:\n",
    "        highest_max_temp = temp\n",
    "        day_with_highest_temp = date\n",
    "print(\"The day with the highest maximum temperature is\", day_with_highest_temp, \"with a max temperature of\", highest_max_temp, \"°C.\")"
   ]
  },
  {
   "cell_type": "code",
   "execution_count": 69,
   "id": "68d1fb5e-22e3-45c1-84ac-4dd6482009d8",
   "metadata": {},
   "outputs": [
    {
     "name": "stdout",
     "output_type": "stream",
     "text": [
      "I found it almost the same in terms of the code but for retrieving the url, weatherapi.com was much better so would recommend that.\n"
     ]
    }
   ],
   "source": [
    "\n",
    "\n",
    "print(\"I found it almost the same in terms of the code but for retrieving the url, weatherapi.com was much better so would recommend that.\") \n"
   ]
  },
  {
   "cell_type": "code",
   "execution_count": null,
   "id": "1e032ab9-b821-465b-9167-a13816c23c5d",
   "metadata": {},
   "outputs": [],
   "source": []
  }
 ],
 "metadata": {
  "kernelspec": {
   "display_name": "Python 3 (ipykernel)",
   "language": "python",
   "name": "python3"
  },
  "language_info": {
   "codemirror_mode": {
    "name": "ipython",
    "version": 3
   },
   "file_extension": ".py",
   "mimetype": "text/x-python",
   "name": "python",
   "nbconvert_exporter": "python",
   "pygments_lexer": "ipython3",
   "version": "3.12.7"
  }
 },
 "nbformat": 4,
 "nbformat_minor": 5
}
