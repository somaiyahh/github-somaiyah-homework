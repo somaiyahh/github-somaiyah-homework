{
 "cells": [
  {
   "cell_type": "markdown",
   "metadata": {},
   "source": [
    "# Last FM API (Music)\n",
    "\n",
    "Spotify's API is dead to us, so we're using Last.fm's - it's still music, just not as nice of an API.\n",
    "\n",
    "1. Create an account at https://www.last.fm/api/\n",
    "2. Create an \"application\" to get a key: https://www.last.fm/api/account/create\n",
    "    - It isn't a real application, it's just your project\n",
    "    - Name/description doesn't matter, ignore callback key and callback url\n",
    "3. And save the API key that shows up on the next screen\n",
    "\n",
    "You can find documentation at https://www.last.fm/api/\n",
    "\n",
    "The domain for the API is `http://ws.audioscrobbler.com`, so all of your endpoints will be connected to that. To test your API key, check the following URL in your browser: `http://ws.audioscrobbler.com/2.0/?method=artist.search&artist=cher&api_key=XXXXXXXXXXXXXXXXXXXX&format=json` (change the `XXXXXX` to be your API key, of course!).\n",
    "\n",
    "> Last.fm used to be called **AudioScrobbler**, which is why its URLs don't have \"last.fm\" in them.\n",
    "> While we're asking about URLs, notice that the API endpoints have a lot of `?` and `&` in them - these are key/value pairs, kind of like dictionaries, but for URLs instead of Python."
   ]
  },
  {
   "cell_type": "markdown",
   "metadata": {},
   "source": [
    "# FIRST: SETUP"
   ]
  },
  {
   "cell_type": "markdown",
   "metadata": {},
   "source": [
    "## 1) Import the libraries/packages you might need\n",
    "\n",
    "We need a library to read in the data for us! We don't like `urllib2`, so it must be something cooler and better."
   ]
  },
  {
   "cell_type": "code",
   "execution_count": 21,
   "metadata": {},
   "outputs": [],
   "source": [
    "# Import what you need here\n",
    "\n",
    "import requests\n"
   ]
  },
  {
   "cell_type": "markdown",
   "metadata": {},
   "source": [
    "## 2) Save your API key\n",
    "\n",
    "Write your API key here so you don't forget it - it's the \"api key\" one, not the \"shared secret\" one\n",
    "\n",
    "my_api_key = 72612eced9c9e9cecf083c42c92ff479"
   ]
  },
  {
   "cell_type": "markdown",
   "metadata": {},
   "source": [
    "## 3) The death of an API\n",
    "\n",
    "I used to have some code here that allowed you to display images, but _the images don't work any more._ Let this be an important lesson: when you depend on external services, they can die at any time."
   ]
  },
  {
   "cell_type": "markdown",
   "metadata": {},
   "source": [
    "# NOW: YOUR ASSIGNMENT"
   ]
  },
  {
   "cell_type": "markdown",
   "metadata": {},
   "source": [
    "## 1) Search for and print a list of 50 musicians with `lil` in their name, along with the number of listeners they have\n",
    "\n",
    "There are a lot of musicians with \"Lil\" in their name - it used to be all Lil Wayne and Lil Kim, but we live in a new world now!\n",
    "\n",
    "- *Tip: Remember, the domain for the API is `http://ws.audioscrobbler.com`*\n",
    "- *Tip: Make sure you ask the API for 50 musicians! This involves adding another parameter to the URL - notice they all have a `&` before them. [Read the documentation](http://www.last.fm/api/show/artist.search) to find the parameter's name.* \n",
    "- *Tip: When you are looking at any piece of data - is it a dictionary? Look at the keys! Is it a list? Look at the first element!*\n",
    "- *Tip: LOOK AT THE KEYS. and then the other keys and the other keys and the other keys. It's an ugly series of dictionaries!*"
   ]
  },
  {
   "cell_type": "code",
   "execution_count": 30,
   "metadata": {},
   "outputs": [
    {
     "data": {
      "text/plain": [
       "<Response [200]>"
      ]
     },
     "execution_count": 30,
     "metadata": {},
     "output_type": "execute_result"
    }
   ],
   "source": [
    "import requests\n",
    "url = 'https://ws.audioscrobbler.com/2.0/?method=artist.search&artist=lil&api_key=72612eced9c9e9cecf083c42c92ff479&format=json'\n",
    "response = requests.get(url)\n",
    "response\n"
   ]
  },
  {
   "cell_type": "code",
   "execution_count": 31,
   "metadata": {
    "scrolled": true
   },
   "outputs": [
    {
     "data": {
      "text/plain": [
       "{'results': {'opensearch:Query': {'#text': '',\n",
       "   'role': 'request',\n",
       "   'searchTerms': 'lil',\n",
       "   'startPage': '1'},\n",
       "  'opensearch:totalResults': '680848',\n",
       "  'opensearch:startIndex': '0',\n",
       "  'opensearch:itemsPerPage': '30',\n",
       "  'artistmatches': {'artist': [{'name': 'LIL UZI VERT',\n",
       "     'listeners': '2093792',\n",
       "     'mbid': '',\n",
       "     'url': 'https://www.last.fm/music/LIL+UZI+VERT',\n",
       "     'streamable': '0',\n",
       "     'image': [{'#text': 'https://lastfm.freetls.fastly.net/i/u/34s/2a96cbd8b46e442fc41c2b86b821562f.png',\n",
       "       'size': 'small'},\n",
       "      {'#text': 'https://lastfm.freetls.fastly.net/i/u/64s/2a96cbd8b46e442fc41c2b86b821562f.png',\n",
       "       'size': 'medium'},\n",
       "      {'#text': 'https://lastfm.freetls.fastly.net/i/u/174s/2a96cbd8b46e442fc41c2b86b821562f.png',\n",
       "       'size': 'large'},\n",
       "      {'#text': 'https://lastfm.freetls.fastly.net/i/u/300x300/2a96cbd8b46e442fc41c2b86b821562f.png',\n",
       "       'size': 'extralarge'},\n",
       "      {'#text': 'https://lastfm.freetls.fastly.net/i/u/300x300/2a96cbd8b46e442fc41c2b86b821562f.png',\n",
       "       'size': 'mega'}]},\n",
       "    {'name': 'LIL PEEP',\n",
       "     'listeners': '1600301',\n",
       "     'mbid': '',\n",
       "     'url': 'https://www.last.fm/music/LIL+PEEP',\n",
       "     'streamable': '0',\n",
       "     'image': [{'#text': 'https://lastfm.freetls.fastly.net/i/u/34s/2a96cbd8b46e442fc41c2b86b821562f.png',\n",
       "       'size': 'small'},\n",
       "      {'#text': 'https://lastfm.freetls.fastly.net/i/u/64s/2a96cbd8b46e442fc41c2b86b821562f.png',\n",
       "       'size': 'medium'},\n",
       "      {'#text': 'https://lastfm.freetls.fastly.net/i/u/174s/2a96cbd8b46e442fc41c2b86b821562f.png',\n",
       "       'size': 'large'},\n",
       "      {'#text': 'https://lastfm.freetls.fastly.net/i/u/300x300/2a96cbd8b46e442fc41c2b86b821562f.png',\n",
       "       'size': 'extralarge'},\n",
       "      {'#text': 'https://lastfm.freetls.fastly.net/i/u/300x300/2a96cbd8b46e442fc41c2b86b821562f.png',\n",
       "       'size': 'mega'}]},\n",
       "    {'name': 'Lil Baby',\n",
       "     'listeners': '1198455',\n",
       "     'mbid': '',\n",
       "     'url': 'https://www.last.fm/music/Lil+Baby',\n",
       "     'streamable': '0',\n",
       "     'image': [{'#text': 'https://lastfm.freetls.fastly.net/i/u/34s/2a96cbd8b46e442fc41c2b86b821562f.png',\n",
       "       'size': 'small'},\n",
       "      {'#text': 'https://lastfm.freetls.fastly.net/i/u/64s/2a96cbd8b46e442fc41c2b86b821562f.png',\n",
       "       'size': 'medium'},\n",
       "      {'#text': 'https://lastfm.freetls.fastly.net/i/u/174s/2a96cbd8b46e442fc41c2b86b821562f.png',\n",
       "       'size': 'large'},\n",
       "      {'#text': 'https://lastfm.freetls.fastly.net/i/u/300x300/2a96cbd8b46e442fc41c2b86b821562f.png',\n",
       "       'size': 'extralarge'},\n",
       "      {'#text': 'https://lastfm.freetls.fastly.net/i/u/300x300/2a96cbd8b46e442fc41c2b86b821562f.png',\n",
       "       'size': 'mega'}]},\n",
       "    {'name': 'Lil Nas X',\n",
       "     'listeners': '2173312',\n",
       "     'mbid': '',\n",
       "     'url': 'https://www.last.fm/music/Lil+Nas+X',\n",
       "     'streamable': '0',\n",
       "     'image': [{'#text': 'https://lastfm.freetls.fastly.net/i/u/34s/2a96cbd8b46e442fc41c2b86b821562f.png',\n",
       "       'size': 'small'},\n",
       "      {'#text': 'https://lastfm.freetls.fastly.net/i/u/64s/2a96cbd8b46e442fc41c2b86b821562f.png',\n",
       "       'size': 'medium'},\n",
       "      {'#text': 'https://lastfm.freetls.fastly.net/i/u/174s/2a96cbd8b46e442fc41c2b86b821562f.png',\n",
       "       'size': 'large'},\n",
       "      {'#text': 'https://lastfm.freetls.fastly.net/i/u/300x300/2a96cbd8b46e442fc41c2b86b821562f.png',\n",
       "       'size': 'extralarge'},\n",
       "      {'#text': 'https://lastfm.freetls.fastly.net/i/u/300x300/2a96cbd8b46e442fc41c2b86b821562f.png',\n",
       "       'size': 'mega'}]},\n",
       "    {'name': 'Lil Yachty',\n",
       "     'listeners': '1399332',\n",
       "     'mbid': '',\n",
       "     'url': 'https://www.last.fm/music/Lil+Yachty',\n",
       "     'streamable': '0',\n",
       "     'image': [{'#text': 'https://lastfm.freetls.fastly.net/i/u/34s/2a96cbd8b46e442fc41c2b86b821562f.png',\n",
       "       'size': 'small'},\n",
       "      {'#text': 'https://lastfm.freetls.fastly.net/i/u/64s/2a96cbd8b46e442fc41c2b86b821562f.png',\n",
       "       'size': 'medium'},\n",
       "      {'#text': 'https://lastfm.freetls.fastly.net/i/u/174s/2a96cbd8b46e442fc41c2b86b821562f.png',\n",
       "       'size': 'large'},\n",
       "      {'#text': 'https://lastfm.freetls.fastly.net/i/u/300x300/2a96cbd8b46e442fc41c2b86b821562f.png',\n",
       "       'size': 'extralarge'},\n",
       "      {'#text': 'https://lastfm.freetls.fastly.net/i/u/300x300/2a96cbd8b46e442fc41c2b86b821562f.png',\n",
       "       'size': 'mega'}]},\n",
       "    {'name': 'Lil Tecca',\n",
       "     'listeners': '1222057',\n",
       "     'mbid': '',\n",
       "     'url': 'https://www.last.fm/music/Lil+Tecca',\n",
       "     'streamable': '0',\n",
       "     'image': [{'#text': 'https://lastfm.freetls.fastly.net/i/u/34s/2a96cbd8b46e442fc41c2b86b821562f.png',\n",
       "       'size': 'small'},\n",
       "      {'#text': 'https://lastfm.freetls.fastly.net/i/u/64s/2a96cbd8b46e442fc41c2b86b821562f.png',\n",
       "       'size': 'medium'},\n",
       "      {'#text': 'https://lastfm.freetls.fastly.net/i/u/174s/2a96cbd8b46e442fc41c2b86b821562f.png',\n",
       "       'size': 'large'},\n",
       "      {'#text': 'https://lastfm.freetls.fastly.net/i/u/300x300/2a96cbd8b46e442fc41c2b86b821562f.png',\n",
       "       'size': 'extralarge'},\n",
       "      {'#text': 'https://lastfm.freetls.fastly.net/i/u/300x300/2a96cbd8b46e442fc41c2b86b821562f.png',\n",
       "       'size': 'mega'}]},\n",
       "    {'name': 'Lil Wayne',\n",
       "     'listeners': '1592379',\n",
       "     'mbid': 'ac9a487a-d9d2-4f27-bb23-0f4686488345',\n",
       "     'url': 'https://www.last.fm/music/Lil+Wayne',\n",
       "     'streamable': '0',\n",
       "     'image': [{'#text': 'https://lastfm.freetls.fastly.net/i/u/34s/2a96cbd8b46e442fc41c2b86b821562f.png',\n",
       "       'size': 'small'},\n",
       "      {'#text': 'https://lastfm.freetls.fastly.net/i/u/64s/2a96cbd8b46e442fc41c2b86b821562f.png',\n",
       "       'size': 'medium'},\n",
       "      {'#text': 'https://lastfm.freetls.fastly.net/i/u/174s/2a96cbd8b46e442fc41c2b86b821562f.png',\n",
       "       'size': 'large'},\n",
       "      {'#text': 'https://lastfm.freetls.fastly.net/i/u/300x300/2a96cbd8b46e442fc41c2b86b821562f.png',\n",
       "       'size': 'extralarge'},\n",
       "      {'#text': 'https://lastfm.freetls.fastly.net/i/u/300x300/2a96cbd8b46e442fc41c2b86b821562f.png',\n",
       "       'size': 'mega'}]},\n",
       "    {'name': 'Lily Allen',\n",
       "     'listeners': '3020200',\n",
       "     'mbid': '6e0c7c0e-cba5-4c2c-a652-38f71ef5785d',\n",
       "     'url': 'https://www.last.fm/music/Lily+Allen',\n",
       "     'streamable': '0',\n",
       "     'image': [{'#text': 'https://lastfm.freetls.fastly.net/i/u/34s/2a96cbd8b46e442fc41c2b86b821562f.png',\n",
       "       'size': 'small'},\n",
       "      {'#text': 'https://lastfm.freetls.fastly.net/i/u/64s/2a96cbd8b46e442fc41c2b86b821562f.png',\n",
       "       'size': 'medium'},\n",
       "      {'#text': 'https://lastfm.freetls.fastly.net/i/u/174s/2a96cbd8b46e442fc41c2b86b821562f.png',\n",
       "       'size': 'large'},\n",
       "      {'#text': 'https://lastfm.freetls.fastly.net/i/u/300x300/2a96cbd8b46e442fc41c2b86b821562f.png',\n",
       "       'size': 'extralarge'},\n",
       "      {'#text': 'https://lastfm.freetls.fastly.net/i/u/300x300/2a96cbd8b46e442fc41c2b86b821562f.png',\n",
       "       'size': 'mega'}]},\n",
       "    {'name': 'Lil Durk',\n",
       "     'listeners': '867485',\n",
       "     'mbid': 'c9cd225b-4883-428e-82c2-73e0b6282fb6',\n",
       "     'url': 'https://www.last.fm/music/Lil+Durk',\n",
       "     'streamable': '0',\n",
       "     'image': [{'#text': 'https://lastfm.freetls.fastly.net/i/u/34s/2a96cbd8b46e442fc41c2b86b821562f.png',\n",
       "       'size': 'small'},\n",
       "      {'#text': 'https://lastfm.freetls.fastly.net/i/u/64s/2a96cbd8b46e442fc41c2b86b821562f.png',\n",
       "       'size': 'medium'},\n",
       "      {'#text': 'https://lastfm.freetls.fastly.net/i/u/174s/2a96cbd8b46e442fc41c2b86b821562f.png',\n",
       "       'size': 'large'},\n",
       "      {'#text': 'https://lastfm.freetls.fastly.net/i/u/300x300/2a96cbd8b46e442fc41c2b86b821562f.png',\n",
       "       'size': 'extralarge'},\n",
       "      {'#text': 'https://lastfm.freetls.fastly.net/i/u/300x300/2a96cbd8b46e442fc41c2b86b821562f.png',\n",
       "       'size': 'mega'}]},\n",
       "    {'name': 'lil tjay',\n",
       "     'listeners': '776721',\n",
       "     'mbid': '',\n",
       "     'url': 'https://www.last.fm/music/lil+tjay',\n",
       "     'streamable': '0',\n",
       "     'image': [{'#text': 'https://lastfm.freetls.fastly.net/i/u/34s/2a96cbd8b46e442fc41c2b86b821562f.png',\n",
       "       'size': 'small'},\n",
       "      {'#text': 'https://lastfm.freetls.fastly.net/i/u/64s/2a96cbd8b46e442fc41c2b86b821562f.png',\n",
       "       'size': 'medium'},\n",
       "      {'#text': 'https://lastfm.freetls.fastly.net/i/u/174s/2a96cbd8b46e442fc41c2b86b821562f.png',\n",
       "       'size': 'large'},\n",
       "      {'#text': 'https://lastfm.freetls.fastly.net/i/u/300x300/2a96cbd8b46e442fc41c2b86b821562f.png',\n",
       "       'size': 'extralarge'},\n",
       "      {'#text': 'https://lastfm.freetls.fastly.net/i/u/300x300/2a96cbd8b46e442fc41c2b86b821562f.png',\n",
       "       'size': 'mega'}]},\n",
       "    {'name': \"Lil' Wayne\",\n",
       "     'listeners': '3383966',\n",
       "     'mbid': '',\n",
       "     'url': 'https://www.last.fm/music/Lil%27+Wayne',\n",
       "     'streamable': '0',\n",
       "     'image': [{'#text': 'https://lastfm.freetls.fastly.net/i/u/34s/2a96cbd8b46e442fc41c2b86b821562f.png',\n",
       "       'size': 'small'},\n",
       "      {'#text': 'https://lastfm.freetls.fastly.net/i/u/64s/2a96cbd8b46e442fc41c2b86b821562f.png',\n",
       "       'size': 'medium'},\n",
       "      {'#text': 'https://lastfm.freetls.fastly.net/i/u/174s/2a96cbd8b46e442fc41c2b86b821562f.png',\n",
       "       'size': 'large'},\n",
       "      {'#text': 'https://lastfm.freetls.fastly.net/i/u/300x300/2a96cbd8b46e442fc41c2b86b821562f.png',\n",
       "       'size': 'extralarge'},\n",
       "      {'#text': 'https://lastfm.freetls.fastly.net/i/u/300x300/2a96cbd8b46e442fc41c2b86b821562f.png',\n",
       "       'size': 'mega'}]},\n",
       "    {'name': 'Lil Darkie',\n",
       "     'listeners': '512897',\n",
       "     'mbid': '',\n",
       "     'url': 'https://www.last.fm/music/Lil+Darkie',\n",
       "     'streamable': '0',\n",
       "     'image': [{'#text': 'https://lastfm.freetls.fastly.net/i/u/34s/2a96cbd8b46e442fc41c2b86b821562f.png',\n",
       "       'size': 'small'},\n",
       "      {'#text': 'https://lastfm.freetls.fastly.net/i/u/64s/2a96cbd8b46e442fc41c2b86b821562f.png',\n",
       "       'size': 'medium'},\n",
       "      {'#text': 'https://lastfm.freetls.fastly.net/i/u/174s/2a96cbd8b46e442fc41c2b86b821562f.png',\n",
       "       'size': 'large'},\n",
       "      {'#text': 'https://lastfm.freetls.fastly.net/i/u/300x300/2a96cbd8b46e442fc41c2b86b821562f.png',\n",
       "       'size': 'extralarge'},\n",
       "      {'#text': 'https://lastfm.freetls.fastly.net/i/u/300x300/2a96cbd8b46e442fc41c2b86b821562f.png',\n",
       "       'size': 'mega'}]},\n",
       "    {'name': 'lil skies',\n",
       "     'listeners': '663825',\n",
       "     'mbid': '',\n",
       "     'url': 'https://www.last.fm/music/lil+skies',\n",
       "     'streamable': '0',\n",
       "     'image': [{'#text': 'https://lastfm.freetls.fastly.net/i/u/34s/2a96cbd8b46e442fc41c2b86b821562f.png',\n",
       "       'size': 'small'},\n",
       "      {'#text': 'https://lastfm.freetls.fastly.net/i/u/64s/2a96cbd8b46e442fc41c2b86b821562f.png',\n",
       "       'size': 'medium'},\n",
       "      {'#text': 'https://lastfm.freetls.fastly.net/i/u/174s/2a96cbd8b46e442fc41c2b86b821562f.png',\n",
       "       'size': 'large'},\n",
       "      {'#text': 'https://lastfm.freetls.fastly.net/i/u/300x300/2a96cbd8b46e442fc41c2b86b821562f.png',\n",
       "       'size': 'extralarge'},\n",
       "      {'#text': 'https://lastfm.freetls.fastly.net/i/u/300x300/2a96cbd8b46e442fc41c2b86b821562f.png',\n",
       "       'size': 'mega'}]},\n",
       "    {'name': 'Lil Ugly Mane',\n",
       "     'listeners': '329206',\n",
       "     'mbid': '5f1adfe1-4d07-4141-b181-79e5d379d539',\n",
       "     'url': 'https://www.last.fm/music/Lil+Ugly+Mane',\n",
       "     'streamable': '0',\n",
       "     'image': [{'#text': 'https://lastfm.freetls.fastly.net/i/u/34s/2a96cbd8b46e442fc41c2b86b821562f.png',\n",
       "       'size': 'small'},\n",
       "      {'#text': 'https://lastfm.freetls.fastly.net/i/u/64s/2a96cbd8b46e442fc41c2b86b821562f.png',\n",
       "       'size': 'medium'},\n",
       "      {'#text': 'https://lastfm.freetls.fastly.net/i/u/174s/2a96cbd8b46e442fc41c2b86b821562f.png',\n",
       "       'size': 'large'},\n",
       "      {'#text': 'https://lastfm.freetls.fastly.net/i/u/300x300/2a96cbd8b46e442fc41c2b86b821562f.png',\n",
       "       'size': 'extralarge'},\n",
       "      {'#text': 'https://lastfm.freetls.fastly.net/i/u/300x300/2a96cbd8b46e442fc41c2b86b821562f.png',\n",
       "       'size': 'mega'}]},\n",
       "    {'name': 'lil Mosey',\n",
       "     'listeners': '766006',\n",
       "     'mbid': '',\n",
       "     'url': 'https://www.last.fm/music/lil+Mosey',\n",
       "     'streamable': '0',\n",
       "     'image': [{'#text': 'https://lastfm.freetls.fastly.net/i/u/34s/2a96cbd8b46e442fc41c2b86b821562f.png',\n",
       "       'size': 'small'},\n",
       "      {'#text': 'https://lastfm.freetls.fastly.net/i/u/64s/2a96cbd8b46e442fc41c2b86b821562f.png',\n",
       "       'size': 'medium'},\n",
       "      {'#text': 'https://lastfm.freetls.fastly.net/i/u/174s/2a96cbd8b46e442fc41c2b86b821562f.png',\n",
       "       'size': 'large'},\n",
       "      {'#text': 'https://lastfm.freetls.fastly.net/i/u/300x300/2a96cbd8b46e442fc41c2b86b821562f.png',\n",
       "       'size': 'extralarge'},\n",
       "      {'#text': 'https://lastfm.freetls.fastly.net/i/u/300x300/2a96cbd8b46e442fc41c2b86b821562f.png',\n",
       "       'size': 'mega'}]},\n",
       "    {'name': 'Lil B',\n",
       "     'listeners': '530411',\n",
       "     'mbid': '1550f952-c91b-40d7-9b4d-d26a259ee932',\n",
       "     'url': 'https://www.last.fm/music/Lil+B',\n",
       "     'streamable': '0',\n",
       "     'image': [{'#text': 'https://lastfm.freetls.fastly.net/i/u/34s/2a96cbd8b46e442fc41c2b86b821562f.png',\n",
       "       'size': 'small'},\n",
       "      {'#text': 'https://lastfm.freetls.fastly.net/i/u/64s/2a96cbd8b46e442fc41c2b86b821562f.png',\n",
       "       'size': 'medium'},\n",
       "      {'#text': 'https://lastfm.freetls.fastly.net/i/u/174s/2a96cbd8b46e442fc41c2b86b821562f.png',\n",
       "       'size': 'large'},\n",
       "      {'#text': 'https://lastfm.freetls.fastly.net/i/u/300x300/2a96cbd8b46e442fc41c2b86b821562f.png',\n",
       "       'size': 'extralarge'},\n",
       "      {'#text': 'https://lastfm.freetls.fastly.net/i/u/300x300/2a96cbd8b46e442fc41c2b86b821562f.png',\n",
       "       'size': 'mega'}]},\n",
       "    {'name': 'Lil Shine',\n",
       "     'listeners': '101104',\n",
       "     'mbid': 'd4c7d574-c8f8-4c7e-ab45-fc612df367ca',\n",
       "     'url': 'https://www.last.fm/music/Lil+Shine',\n",
       "     'streamable': '0',\n",
       "     'image': [{'#text': 'https://lastfm.freetls.fastly.net/i/u/34s/2a96cbd8b46e442fc41c2b86b821562f.png',\n",
       "       'size': 'small'},\n",
       "      {'#text': 'https://lastfm.freetls.fastly.net/i/u/64s/2a96cbd8b46e442fc41c2b86b821562f.png',\n",
       "       'size': 'medium'},\n",
       "      {'#text': 'https://lastfm.freetls.fastly.net/i/u/174s/2a96cbd8b46e442fc41c2b86b821562f.png',\n",
       "       'size': 'large'},\n",
       "      {'#text': 'https://lastfm.freetls.fastly.net/i/u/300x300/2a96cbd8b46e442fc41c2b86b821562f.png',\n",
       "       'size': 'extralarge'},\n",
       "      {'#text': 'https://lastfm.freetls.fastly.net/i/u/300x300/2a96cbd8b46e442fc41c2b86b821562f.png',\n",
       "       'size': 'mega'}]},\n",
       "    {'name': 'LIL TRACY',\n",
       "     'listeners': '275627',\n",
       "     'mbid': '',\n",
       "     'url': 'https://www.last.fm/music/LIL+TRACY',\n",
       "     'streamable': '0',\n",
       "     'image': [{'#text': 'https://lastfm.freetls.fastly.net/i/u/34s/2a96cbd8b46e442fc41c2b86b821562f.png',\n",
       "       'size': 'small'},\n",
       "      {'#text': 'https://lastfm.freetls.fastly.net/i/u/64s/2a96cbd8b46e442fc41c2b86b821562f.png',\n",
       "       'size': 'medium'},\n",
       "      {'#text': 'https://lastfm.freetls.fastly.net/i/u/174s/2a96cbd8b46e442fc41c2b86b821562f.png',\n",
       "       'size': 'large'},\n",
       "      {'#text': 'https://lastfm.freetls.fastly.net/i/u/300x300/2a96cbd8b46e442fc41c2b86b821562f.png',\n",
       "       'size': 'extralarge'},\n",
       "      {'#text': 'https://lastfm.freetls.fastly.net/i/u/300x300/2a96cbd8b46e442fc41c2b86b821562f.png',\n",
       "       'size': 'mega'}]},\n",
       "    {'name': 'LIL PUMP',\n",
       "     'listeners': '596920',\n",
       "     'mbid': '',\n",
       "     'url': 'https://www.last.fm/music/LIL+PUMP',\n",
       "     'streamable': '0',\n",
       "     'image': [{'#text': 'https://lastfm.freetls.fastly.net/i/u/34s/2a96cbd8b46e442fc41c2b86b821562f.png',\n",
       "       'size': 'small'},\n",
       "      {'#text': 'https://lastfm.freetls.fastly.net/i/u/64s/2a96cbd8b46e442fc41c2b86b821562f.png',\n",
       "       'size': 'medium'},\n",
       "      {'#text': 'https://lastfm.freetls.fastly.net/i/u/174s/2a96cbd8b46e442fc41c2b86b821562f.png',\n",
       "       'size': 'large'},\n",
       "      {'#text': 'https://lastfm.freetls.fastly.net/i/u/300x300/2a96cbd8b46e442fc41c2b86b821562f.png',\n",
       "       'size': 'extralarge'},\n",
       "      {'#text': 'https://lastfm.freetls.fastly.net/i/u/300x300/2a96cbd8b46e442fc41c2b86b821562f.png',\n",
       "       'size': 'mega'}]},\n",
       "    {'name': 'Lil Keed',\n",
       "     'listeners': '293198',\n",
       "     'mbid': '',\n",
       "     'url': 'https://www.last.fm/music/Lil+Keed',\n",
       "     'streamable': '0',\n",
       "     'image': [{'#text': 'https://lastfm.freetls.fastly.net/i/u/34s/2a96cbd8b46e442fc41c2b86b821562f.png',\n",
       "       'size': 'small'},\n",
       "      {'#text': 'https://lastfm.freetls.fastly.net/i/u/64s/2a96cbd8b46e442fc41c2b86b821562f.png',\n",
       "       'size': 'medium'},\n",
       "      {'#text': 'https://lastfm.freetls.fastly.net/i/u/174s/2a96cbd8b46e442fc41c2b86b821562f.png',\n",
       "       'size': 'large'},\n",
       "      {'#text': 'https://lastfm.freetls.fastly.net/i/u/300x300/2a96cbd8b46e442fc41c2b86b821562f.png',\n",
       "       'size': 'extralarge'},\n",
       "      {'#text': 'https://lastfm.freetls.fastly.net/i/u/300x300/2a96cbd8b46e442fc41c2b86b821562f.png',\n",
       "       'size': 'mega'}]},\n",
       "    {'name': 'lil mabu',\n",
       "     'listeners': '357137',\n",
       "     'mbid': '',\n",
       "     'url': 'https://www.last.fm/music/lil+mabu',\n",
       "     'streamable': '0',\n",
       "     'image': [{'#text': 'https://lastfm.freetls.fastly.net/i/u/34s/2a96cbd8b46e442fc41c2b86b821562f.png',\n",
       "       'size': 'small'},\n",
       "      {'#text': 'https://lastfm.freetls.fastly.net/i/u/64s/2a96cbd8b46e442fc41c2b86b821562f.png',\n",
       "       'size': 'medium'},\n",
       "      {'#text': 'https://lastfm.freetls.fastly.net/i/u/174s/2a96cbd8b46e442fc41c2b86b821562f.png',\n",
       "       'size': 'large'},\n",
       "      {'#text': 'https://lastfm.freetls.fastly.net/i/u/300x300/2a96cbd8b46e442fc41c2b86b821562f.png',\n",
       "       'size': 'extralarge'},\n",
       "      {'#text': 'https://lastfm.freetls.fastly.net/i/u/300x300/2a96cbd8b46e442fc41c2b86b821562f.png',\n",
       "       'size': 'mega'}]},\n",
       "    {'name': 'Lil Dicky',\n",
       "     'listeners': '567297',\n",
       "     'mbid': '3268f062-6e76-480a-a384-e1dd2a276afb',\n",
       "     'url': 'https://www.last.fm/music/Lil+Dicky',\n",
       "     'streamable': '0',\n",
       "     'image': [{'#text': 'https://lastfm.freetls.fastly.net/i/u/34s/2a96cbd8b46e442fc41c2b86b821562f.png',\n",
       "       'size': 'small'},\n",
       "      {'#text': 'https://lastfm.freetls.fastly.net/i/u/64s/2a96cbd8b46e442fc41c2b86b821562f.png',\n",
       "       'size': 'medium'},\n",
       "      {'#text': 'https://lastfm.freetls.fastly.net/i/u/174s/2a96cbd8b46e442fc41c2b86b821562f.png',\n",
       "       'size': 'large'},\n",
       "      {'#text': 'https://lastfm.freetls.fastly.net/i/u/300x300/2a96cbd8b46e442fc41c2b86b821562f.png',\n",
       "       'size': 'extralarge'},\n",
       "      {'#text': 'https://lastfm.freetls.fastly.net/i/u/300x300/2a96cbd8b46e442fc41c2b86b821562f.png',\n",
       "       'size': 'mega'}]},\n",
       "    {'name': 'Lil Loaded',\n",
       "     'listeners': '239176',\n",
       "     'mbid': '',\n",
       "     'url': 'https://www.last.fm/music/Lil+Loaded',\n",
       "     'streamable': '0',\n",
       "     'image': [{'#text': 'https://lastfm.freetls.fastly.net/i/u/34s/2a96cbd8b46e442fc41c2b86b821562f.png',\n",
       "       'size': 'small'},\n",
       "      {'#text': 'https://lastfm.freetls.fastly.net/i/u/64s/2a96cbd8b46e442fc41c2b86b821562f.png',\n",
       "       'size': 'medium'},\n",
       "      {'#text': 'https://lastfm.freetls.fastly.net/i/u/174s/2a96cbd8b46e442fc41c2b86b821562f.png',\n",
       "       'size': 'large'},\n",
       "      {'#text': 'https://lastfm.freetls.fastly.net/i/u/300x300/2a96cbd8b46e442fc41c2b86b821562f.png',\n",
       "       'size': 'extralarge'},\n",
       "      {'#text': 'https://lastfm.freetls.fastly.net/i/u/300x300/2a96cbd8b46e442fc41c2b86b821562f.png',\n",
       "       'size': 'mega'}]},\n",
       "    {'name': 'Lil Xan',\n",
       "     'listeners': '399533',\n",
       "     'mbid': '',\n",
       "     'url': 'https://www.last.fm/music/Lil+Xan',\n",
       "     'streamable': '0',\n",
       "     'image': [{'#text': 'https://lastfm.freetls.fastly.net/i/u/34s/2a96cbd8b46e442fc41c2b86b821562f.png',\n",
       "       'size': 'small'},\n",
       "      {'#text': 'https://lastfm.freetls.fastly.net/i/u/64s/2a96cbd8b46e442fc41c2b86b821562f.png',\n",
       "       'size': 'medium'},\n",
       "      {'#text': 'https://lastfm.freetls.fastly.net/i/u/174s/2a96cbd8b46e442fc41c2b86b821562f.png',\n",
       "       'size': 'large'},\n",
       "      {'#text': 'https://lastfm.freetls.fastly.net/i/u/300x300/2a96cbd8b46e442fc41c2b86b821562f.png',\n",
       "       'size': 'extralarge'},\n",
       "      {'#text': 'https://lastfm.freetls.fastly.net/i/u/300x300/2a96cbd8b46e442fc41c2b86b821562f.png',\n",
       "       'size': 'mega'}]},\n",
       "    {'name': 'Lily Chou-Chou',\n",
       "     'listeners': '212722',\n",
       "     'mbid': '5652bb3e-f225-49de-9637-5aa1539b4a7c',\n",
       "     'url': 'https://www.last.fm/music/Lily+Chou-Chou',\n",
       "     'streamable': '0',\n",
       "     'image': [{'#text': 'https://lastfm.freetls.fastly.net/i/u/34s/2a96cbd8b46e442fc41c2b86b821562f.png',\n",
       "       'size': 'small'},\n",
       "      {'#text': 'https://lastfm.freetls.fastly.net/i/u/64s/2a96cbd8b46e442fc41c2b86b821562f.png',\n",
       "       'size': 'medium'},\n",
       "      {'#text': 'https://lastfm.freetls.fastly.net/i/u/174s/2a96cbd8b46e442fc41c2b86b821562f.png',\n",
       "       'size': 'large'},\n",
       "      {'#text': 'https://lastfm.freetls.fastly.net/i/u/300x300/2a96cbd8b46e442fc41c2b86b821562f.png',\n",
       "       'size': 'extralarge'},\n",
       "      {'#text': 'https://lastfm.freetls.fastly.net/i/u/300x300/2a96cbd8b46e442fc41c2b86b821562f.png',\n",
       "       'size': 'mega'}]},\n",
       "    {'name': \"Lil' Kim\",\n",
       "     'listeners': '679358',\n",
       "     'mbid': 'bc1b5c95-e6d6-46b5-957a-5e8908b02c1e',\n",
       "     'url': 'https://www.last.fm/music/Lil%27+Kim',\n",
       "     'streamable': '0',\n",
       "     'image': [{'#text': 'https://lastfm.freetls.fastly.net/i/u/34s/2a96cbd8b46e442fc41c2b86b821562f.png',\n",
       "       'size': 'small'},\n",
       "      {'#text': 'https://lastfm.freetls.fastly.net/i/u/64s/2a96cbd8b46e442fc41c2b86b821562f.png',\n",
       "       'size': 'medium'},\n",
       "      {'#text': 'https://lastfm.freetls.fastly.net/i/u/174s/2a96cbd8b46e442fc41c2b86b821562f.png',\n",
       "       'size': 'large'},\n",
       "      {'#text': 'https://lastfm.freetls.fastly.net/i/u/300x300/2a96cbd8b46e442fc41c2b86b821562f.png',\n",
       "       'size': 'extralarge'},\n",
       "      {'#text': 'https://lastfm.freetls.fastly.net/i/u/300x300/2a96cbd8b46e442fc41c2b86b821562f.png',\n",
       "       'size': 'mega'}]},\n",
       "    {'name': 'lilbubblegum',\n",
       "     'listeners': '231262',\n",
       "     'mbid': '',\n",
       "     'url': 'https://www.last.fm/music/lilbubblegum',\n",
       "     'streamable': '0',\n",
       "     'image': [{'#text': 'https://lastfm.freetls.fastly.net/i/u/34s/2a96cbd8b46e442fc41c2b86b821562f.png',\n",
       "       'size': 'small'},\n",
       "      {'#text': 'https://lastfm.freetls.fastly.net/i/u/64s/2a96cbd8b46e442fc41c2b86b821562f.png',\n",
       "       'size': 'medium'},\n",
       "      {'#text': 'https://lastfm.freetls.fastly.net/i/u/174s/2a96cbd8b46e442fc41c2b86b821562f.png',\n",
       "       'size': 'large'},\n",
       "      {'#text': 'https://lastfm.freetls.fastly.net/i/u/300x300/2a96cbd8b46e442fc41c2b86b821562f.png',\n",
       "       'size': 'extralarge'},\n",
       "      {'#text': 'https://lastfm.freetls.fastly.net/i/u/300x300/2a96cbd8b46e442fc41c2b86b821562f.png',\n",
       "       'size': 'mega'}]},\n",
       "    {'name': 'LIL GNAR',\n",
       "     'listeners': '330653',\n",
       "     'mbid': '',\n",
       "     'url': 'https://www.last.fm/music/LIL+GNAR',\n",
       "     'streamable': '0',\n",
       "     'image': [{'#text': 'https://lastfm.freetls.fastly.net/i/u/34s/2a96cbd8b46e442fc41c2b86b821562f.png',\n",
       "       'size': 'small'},\n",
       "      {'#text': 'https://lastfm.freetls.fastly.net/i/u/64s/2a96cbd8b46e442fc41c2b86b821562f.png',\n",
       "       'size': 'medium'},\n",
       "      {'#text': 'https://lastfm.freetls.fastly.net/i/u/174s/2a96cbd8b46e442fc41c2b86b821562f.png',\n",
       "       'size': 'large'},\n",
       "      {'#text': 'https://lastfm.freetls.fastly.net/i/u/300x300/2a96cbd8b46e442fc41c2b86b821562f.png',\n",
       "       'size': 'extralarge'},\n",
       "      {'#text': 'https://lastfm.freetls.fastly.net/i/u/300x300/2a96cbd8b46e442fc41c2b86b821562f.png',\n",
       "       'size': 'mega'}]},\n",
       "    {'name': 'Lilypichu',\n",
       "     'listeners': '122359',\n",
       "     'mbid': '',\n",
       "     'url': 'https://www.last.fm/music/Lilypichu',\n",
       "     'streamable': '0',\n",
       "     'image': [{'#text': 'https://lastfm.freetls.fastly.net/i/u/34s/2a96cbd8b46e442fc41c2b86b821562f.png',\n",
       "       'size': 'small'},\n",
       "      {'#text': 'https://lastfm.freetls.fastly.net/i/u/64s/2a96cbd8b46e442fc41c2b86b821562f.png',\n",
       "       'size': 'medium'},\n",
       "      {'#text': 'https://lastfm.freetls.fastly.net/i/u/174s/2a96cbd8b46e442fc41c2b86b821562f.png',\n",
       "       'size': 'large'},\n",
       "      {'#text': 'https://lastfm.freetls.fastly.net/i/u/300x300/2a96cbd8b46e442fc41c2b86b821562f.png',\n",
       "       'size': 'extralarge'},\n",
       "      {'#text': 'https://lastfm.freetls.fastly.net/i/u/300x300/2a96cbd8b46e442fc41c2b86b821562f.png',\n",
       "       'size': 'mega'}]},\n",
       "    {'name': 'Lil Revive',\n",
       "     'listeners': '63613',\n",
       "     'mbid': '',\n",
       "     'url': 'https://www.last.fm/music/Lil+Revive',\n",
       "     'streamable': '0',\n",
       "     'image': [{'#text': 'https://lastfm.freetls.fastly.net/i/u/34s/2a96cbd8b46e442fc41c2b86b821562f.png',\n",
       "       'size': 'small'},\n",
       "      {'#text': 'https://lastfm.freetls.fastly.net/i/u/64s/2a96cbd8b46e442fc41c2b86b821562f.png',\n",
       "       'size': 'medium'},\n",
       "      {'#text': 'https://lastfm.freetls.fastly.net/i/u/174s/2a96cbd8b46e442fc41c2b86b821562f.png',\n",
       "       'size': 'large'},\n",
       "      {'#text': 'https://lastfm.freetls.fastly.net/i/u/300x300/2a96cbd8b46e442fc41c2b86b821562f.png',\n",
       "       'size': 'extralarge'},\n",
       "      {'#text': 'https://lastfm.freetls.fastly.net/i/u/300x300/2a96cbd8b46e442fc41c2b86b821562f.png',\n",
       "       'size': 'mega'}]}]},\n",
       "  '@attr': {'for': 'lil'}}}"
      ]
     },
     "execution_count": 31,
     "metadata": {},
     "output_type": "execute_result"
    }
   ],
   "source": [
    "last_fm = response.json()\n",
    "last_fm"
   ]
  },
  {
   "cell_type": "code",
   "execution_count": 32,
   "metadata": {},
   "outputs": [
    {
     "name": "stdout",
     "output_type": "stream",
     "text": [
      "LIL UZI VERT has 2093792 listeners.\n",
      "LIL PEEP has 1600301 listeners.\n",
      "Lil Baby has 1198455 listeners.\n",
      "Lil Nas X has 2173312 listeners.\n",
      "Lil Yachty has 1399332 listeners.\n",
      "Lil Tecca has 1222057 listeners.\n",
      "Lil Wayne has 1592379 listeners.\n",
      "Lily Allen has 3020200 listeners.\n",
      "Lil Durk has 867485 listeners.\n",
      "lil tjay has 776721 listeners.\n",
      "Lil' Wayne has 3383966 listeners.\n",
      "Lil Darkie has 512897 listeners.\n",
      "lil skies has 663825 listeners.\n",
      "Lil Ugly Mane has 329206 listeners.\n",
      "lil Mosey has 766006 listeners.\n",
      "Lil B has 530411 listeners.\n",
      "Lil Shine has 101104 listeners.\n",
      "LIL TRACY has 275627 listeners.\n",
      "LIL PUMP has 596920 listeners.\n",
      "Lil Keed has 293198 listeners.\n",
      "lil mabu has 357137 listeners.\n",
      "Lil Dicky has 567297 listeners.\n",
      "Lil Loaded has 239176 listeners.\n",
      "Lil Xan has 399533 listeners.\n",
      "Lily Chou-Chou has 212722 listeners.\n",
      "Lil' Kim has 679358 listeners.\n",
      "lilbubblegum has 231262 listeners.\n",
      "LIL GNAR has 330653 listeners.\n",
      "Lilypichu has 122359 listeners.\n",
      "Lil Revive has 63613 listeners.\n"
     ]
    }
   ],
   "source": [
    "for artist in last_fm['results']['artistmatches']['artist']:\n",
    "    if 'lil' in artist['name'].lower():  \n",
    "        print(artist['name'], \"has\", artist['listeners'], \"listeners.\")"
   ]
  },
  {
   "cell_type": "markdown",
   "metadata": {},
   "source": [
    "## 2) How many listeners does your list have in total?\n",
    "\n",
    "The answer should be roughly **15,000,000**. If it's lower, make sure you have 50 artists instead of 30 artists.\n",
    "\n",
    "- *Tip: What's the data type of the `listeners` count? It's going to cause a problem!*\n",
    "- *Tip: If you were crazy you could use sum and a list comprehension. But you really don't have to!*"
   ]
  },
  {
   "cell_type": "code",
   "execution_count": 38,
   "metadata": {},
   "outputs": [
    {
     "name": "stdout",
     "output_type": "stream",
     "text": [
      "The total listeners are 26600304\n"
     ]
    }
   ],
   "source": [
    "total_listeners = 0\n",
    "for artist in last_fm['results']['artistmatches']['artist']:\n",
    "    listeners = int(artist['listeners'])  \n",
    "    total_listeners += listeners\n",
    "\n",
    "print(\"The total listeners are\", total_listeners)"
   ]
  },
  {
   "cell_type": "markdown",
   "metadata": {},
   "source": [
    "## 3) Show each artist's name and the URL to the extra-large image\n",
    "\n",
    "The images don't work any more, but we'll print their URLs out anyway."
   ]
  },
  {
   "cell_type": "markdown",
   "metadata": {},
   "source": [
    "Each artist **has a list of images of different sizes**. We're interested in the second-to-last one, where `size` is `extralarge`. Print their name and use `display_image` to display their extra-large image.\n",
    "\n",
    "- *Tip: The URL should look like this: `https://lastfm-img2.akamaized.net/i/u/300x300/0fc7d7a1812dc79e9925d80382cde594.png`*\n",
    "- *Tip: You can always assume it's the second to the last, or assume it's `extralarge`, or whatever you want to do to find it.*\n",
    "- *Tip: Make sure the URL is correct before you try to display it.*\n",
    "\n",
    "Your output should look something like\n",
    "\n",
    "```\n",
    "Lil' Wayne\n",
    "https://lastfm.freetls.fastly.net/i/u/300x300/2a96cbd8b46e442fc41c2b86b821562f.png\n",
    "---\n",
    "LIL UZI VERT\n",
    "https://lastfm.freetls.fastly.net/i/u/300x300/2a96cbd8b46e442fc41c2b86b821562f.png\n",
    "---\n",
    "Lily Allen\n",
    "https://lastfm.freetls.fastly.net/i/u/300x300/2a96cbd8b46e442fc41c2b86b821562f.png\n",
    "---\n",
    "```\n",
    "\n",
    "(but with more people, obviously)"
   ]
  },
  {
   "cell_type": "code",
   "execution_count": 46,
   "metadata": {},
   "outputs": [
    {
     "name": "stdout",
     "output_type": "stream",
     "text": [
      "LIL UZI VERT\n",
      "https://lastfm.freetls.fastly.net/i/u/300x300/2a96cbd8b46e442fc41c2b86b821562f.png\n",
      "LIL PEEP\n",
      "https://lastfm.freetls.fastly.net/i/u/300x300/2a96cbd8b46e442fc41c2b86b821562f.png\n",
      "Lil Baby\n",
      "https://lastfm.freetls.fastly.net/i/u/300x300/2a96cbd8b46e442fc41c2b86b821562f.png\n",
      "Lil Nas X\n",
      "https://lastfm.freetls.fastly.net/i/u/300x300/2a96cbd8b46e442fc41c2b86b821562f.png\n",
      "Lil Yachty\n",
      "https://lastfm.freetls.fastly.net/i/u/300x300/2a96cbd8b46e442fc41c2b86b821562f.png\n",
      "Lil Tecca\n",
      "https://lastfm.freetls.fastly.net/i/u/300x300/2a96cbd8b46e442fc41c2b86b821562f.png\n",
      "Lil Wayne\n",
      "https://lastfm.freetls.fastly.net/i/u/300x300/2a96cbd8b46e442fc41c2b86b821562f.png\n",
      "Lily Allen\n",
      "https://lastfm.freetls.fastly.net/i/u/300x300/2a96cbd8b46e442fc41c2b86b821562f.png\n",
      "Lil Durk\n",
      "https://lastfm.freetls.fastly.net/i/u/300x300/2a96cbd8b46e442fc41c2b86b821562f.png\n",
      "lil tjay\n",
      "https://lastfm.freetls.fastly.net/i/u/300x300/2a96cbd8b46e442fc41c2b86b821562f.png\n",
      "Lil' Wayne\n",
      "https://lastfm.freetls.fastly.net/i/u/300x300/2a96cbd8b46e442fc41c2b86b821562f.png\n",
      "Lil Darkie\n",
      "https://lastfm.freetls.fastly.net/i/u/300x300/2a96cbd8b46e442fc41c2b86b821562f.png\n",
      "lil skies\n",
      "https://lastfm.freetls.fastly.net/i/u/300x300/2a96cbd8b46e442fc41c2b86b821562f.png\n",
      "Lil Ugly Mane\n",
      "https://lastfm.freetls.fastly.net/i/u/300x300/2a96cbd8b46e442fc41c2b86b821562f.png\n",
      "lil Mosey\n",
      "https://lastfm.freetls.fastly.net/i/u/300x300/2a96cbd8b46e442fc41c2b86b821562f.png\n",
      "Lil B\n",
      "https://lastfm.freetls.fastly.net/i/u/300x300/2a96cbd8b46e442fc41c2b86b821562f.png\n",
      "Lil Shine\n",
      "https://lastfm.freetls.fastly.net/i/u/300x300/2a96cbd8b46e442fc41c2b86b821562f.png\n",
      "LIL TRACY\n",
      "https://lastfm.freetls.fastly.net/i/u/300x300/2a96cbd8b46e442fc41c2b86b821562f.png\n",
      "LIL PUMP\n",
      "https://lastfm.freetls.fastly.net/i/u/300x300/2a96cbd8b46e442fc41c2b86b821562f.png\n",
      "Lil Keed\n",
      "https://lastfm.freetls.fastly.net/i/u/300x300/2a96cbd8b46e442fc41c2b86b821562f.png\n",
      "lil mabu\n",
      "https://lastfm.freetls.fastly.net/i/u/300x300/2a96cbd8b46e442fc41c2b86b821562f.png\n",
      "Lil Dicky\n",
      "https://lastfm.freetls.fastly.net/i/u/300x300/2a96cbd8b46e442fc41c2b86b821562f.png\n",
      "Lil Loaded\n",
      "https://lastfm.freetls.fastly.net/i/u/300x300/2a96cbd8b46e442fc41c2b86b821562f.png\n",
      "Lil Xan\n",
      "https://lastfm.freetls.fastly.net/i/u/300x300/2a96cbd8b46e442fc41c2b86b821562f.png\n",
      "Lily Chou-Chou\n",
      "https://lastfm.freetls.fastly.net/i/u/300x300/2a96cbd8b46e442fc41c2b86b821562f.png\n",
      "Lil' Kim\n",
      "https://lastfm.freetls.fastly.net/i/u/300x300/2a96cbd8b46e442fc41c2b86b821562f.png\n",
      "lilbubblegum\n",
      "https://lastfm.freetls.fastly.net/i/u/300x300/2a96cbd8b46e442fc41c2b86b821562f.png\n",
      "LIL GNAR\n",
      "https://lastfm.freetls.fastly.net/i/u/300x300/2a96cbd8b46e442fc41c2b86b821562f.png\n",
      "Lilypichu\n",
      "https://lastfm.freetls.fastly.net/i/u/300x300/2a96cbd8b46e442fc41c2b86b821562f.png\n",
      "Lil Revive\n",
      "https://lastfm.freetls.fastly.net/i/u/300x300/2a96cbd8b46e442fc41c2b86b821562f.png\n"
     ]
    }
   ],
   "source": [
    "for artist in last_fm['results']['artistmatches']['artist']:\n",
    "    name = artist['name']\n",
    "    for img in artist['image']:\n",
    "     if img['size'] == 'extralarge':\n",
    "        extra_large_image_url = img['#text']\n",
    "\n",
    "    print(name)\n",
    "    print(extra_large_image_url)\n",
    "\n",
    "\n",
    "          "
   ]
  },
  {
   "cell_type": "markdown",
   "metadata": {},
   "source": [
    "## 4) Find Lil Jon's `mbid` (or anyone else's!).\n",
    "\n",
    "Oftentimes in an API, you can do a few things: you can **search** for items, and you can **see more information** about items. To find more information about the item, you need to use their **unique id**. In this dataset, it's called an `mbid` (MusicBrainz, I think - another company associated with last.fm!).\n",
    "\n",
    "Go through the artists and print their **name and mbid**. Find Lil Jon's `mbid`. I *wanted* Lil Uzi Vert's, but for some reason it isn't there. Then I wanted us to look at Lily Allen's, but I just couldn't bring myself to do that. If you'd rather do someone else, go for it."
   ]
  },
  {
   "cell_type": "code",
   "execution_count": 70,
   "metadata": {},
   "outputs": [
    {
     "name": "stdout",
     "output_type": "stream",
     "text": [
      "Lily Chou-Chou's MBID is: 5652bb3e-f225-49de-9637-5aa1539b4a7c\n"
     ]
    }
   ],
   "source": [
    "for artist in last_fm['results']['artistmatches']['artist']:\n",
    "    if artist['name'].lower() == 'lily chou-chou':\n",
    "        if 'mbid' in artist:\n",
    "            mbid = artist['mbid']\n",
    "            print(\"Lily Chou-Chou's MBID is:\", mbid)\n",
    "        else:\n",
    "            print(\"No MBID found for Lily Chou-Chou.\")\n",
    "        break"
   ]
  },
  {
   "cell_type": "markdown",
   "metadata": {
    "collapsed": true,
    "jupyter": {
     "outputs_hidden": true
    }
   },
   "source": [
    "## 5) Find the artist's name and bio using their `mbid`.\n",
    "\n",
    "It can either be Lil Jon or whoever you selected above.\n",
    "\n",
    "If you look at the [last.fm documentation](http://www.last.fm/api/show/artist.getInfo), you can see how to use the artist's `mbid` to find more information about them. Print **every tag associated with your artist**.\n",
    "\n",
    "- *Tip: It's a new request to the API*\n",
    "- *Tip: Use the `mbid`, and make sure you delete the `&name=Cher` from the sample endpoint*\n",
    "- *Tip: If you use `print` for the bio it looks a little nicer than it would otherwise*"
   ]
  },
  {
   "cell_type": "code",
   "execution_count": 75,
   "metadata": {},
   "outputs": [
    {
     "data": {
      "text/plain": [
       "<Response [200]>"
      ]
     },
     "execution_count": 75,
     "metadata": {},
     "output_type": "execute_result"
    }
   ],
   "source": [
    "import requests\n",
    "url = 'http://ws.audioscrobbler.com/2.0/?method=artist.getinfo&mbid=a95384b1-6aec-468c-ae0d-8c6daf87c4c2&api_key=72612eced9c9e9cecf083c42c92ff479&format=json'\n",
    "response = requests.get(url)\n",
    "response\n",
    "\n"
   ]
  },
  {
   "cell_type": "code",
   "execution_count": 76,
   "metadata": {},
   "outputs": [
    {
     "data": {
      "text/plain": [
       "{'artist': {'name': 'Lil Jon',\n",
       "  'mbid': 'a95384b1-6aec-468c-ae0d-8c6daf87c4c2',\n",
       "  'url': 'https://www.last.fm/music/Lil+Jon',\n",
       "  'image': [{'#text': 'https://lastfm.freetls.fastly.net/i/u/34s/2a96cbd8b46e442fc41c2b86b821562f.png',\n",
       "    'size': 'small'},\n",
       "   {'#text': 'https://lastfm.freetls.fastly.net/i/u/64s/2a96cbd8b46e442fc41c2b86b821562f.png',\n",
       "    'size': 'medium'},\n",
       "   {'#text': 'https://lastfm.freetls.fastly.net/i/u/174s/2a96cbd8b46e442fc41c2b86b821562f.png',\n",
       "    'size': 'large'},\n",
       "   {'#text': 'https://lastfm.freetls.fastly.net/i/u/300x300/2a96cbd8b46e442fc41c2b86b821562f.png',\n",
       "    'size': 'extralarge'},\n",
       "   {'#text': 'https://lastfm.freetls.fastly.net/i/u/300x300/2a96cbd8b46e442fc41c2b86b821562f.png',\n",
       "    'size': 'mega'},\n",
       "   {'#text': 'https://lastfm.freetls.fastly.net/i/u/300x300/2a96cbd8b46e442fc41c2b86b821562f.png',\n",
       "    'size': ''}],\n",
       "  'streamable': '0',\n",
       "  'ontour': '0',\n",
       "  'stats': {'listeners': '751947', 'playcount': '4442995'},\n",
       "  'similar': {'artist': [{'name': 'Lil Jon & The East Side Boyz',\n",
       "     'url': 'https://www.last.fm/music/Lil+Jon+&+The+East+Side+Boyz',\n",
       "     'image': [{'#text': 'https://lastfm.freetls.fastly.net/i/u/34s/2a96cbd8b46e442fc41c2b86b821562f.png',\n",
       "       'size': 'small'},\n",
       "      {'#text': 'https://lastfm.freetls.fastly.net/i/u/64s/2a96cbd8b46e442fc41c2b86b821562f.png',\n",
       "       'size': 'medium'},\n",
       "      {'#text': 'https://lastfm.freetls.fastly.net/i/u/174s/2a96cbd8b46e442fc41c2b86b821562f.png',\n",
       "       'size': 'large'},\n",
       "      {'#text': 'https://lastfm.freetls.fastly.net/i/u/300x300/2a96cbd8b46e442fc41c2b86b821562f.png',\n",
       "       'size': 'extralarge'},\n",
       "      {'#text': 'https://lastfm.freetls.fastly.net/i/u/300x300/2a96cbd8b46e442fc41c2b86b821562f.png',\n",
       "       'size': 'mega'},\n",
       "      {'#text': 'https://lastfm.freetls.fastly.net/i/u/300x300/2a96cbd8b46e442fc41c2b86b821562f.png',\n",
       "       'size': ''}]},\n",
       "    {'name': 'Ying Yang Twins',\n",
       "     'url': 'https://www.last.fm/music/Ying+Yang+Twins',\n",
       "     'image': [{'#text': 'https://lastfm.freetls.fastly.net/i/u/34s/2a96cbd8b46e442fc41c2b86b821562f.png',\n",
       "       'size': 'small'},\n",
       "      {'#text': 'https://lastfm.freetls.fastly.net/i/u/64s/2a96cbd8b46e442fc41c2b86b821562f.png',\n",
       "       'size': 'medium'},\n",
       "      {'#text': 'https://lastfm.freetls.fastly.net/i/u/174s/2a96cbd8b46e442fc41c2b86b821562f.png',\n",
       "       'size': 'large'},\n",
       "      {'#text': 'https://lastfm.freetls.fastly.net/i/u/300x300/2a96cbd8b46e442fc41c2b86b821562f.png',\n",
       "       'size': 'extralarge'},\n",
       "      {'#text': 'https://lastfm.freetls.fastly.net/i/u/300x300/2a96cbd8b46e442fc41c2b86b821562f.png',\n",
       "       'size': 'mega'},\n",
       "      {'#text': 'https://lastfm.freetls.fastly.net/i/u/300x300/2a96cbd8b46e442fc41c2b86b821562f.png',\n",
       "       'size': ''}]},\n",
       "    {'name': 'Roy Jones Jr.',\n",
       "     'url': 'https://www.last.fm/music/Roy+Jones+Jr.',\n",
       "     'image': [{'#text': 'https://lastfm.freetls.fastly.net/i/u/34s/2a96cbd8b46e442fc41c2b86b821562f.png',\n",
       "       'size': 'small'},\n",
       "      {'#text': 'https://lastfm.freetls.fastly.net/i/u/64s/2a96cbd8b46e442fc41c2b86b821562f.png',\n",
       "       'size': 'medium'},\n",
       "      {'#text': 'https://lastfm.freetls.fastly.net/i/u/174s/2a96cbd8b46e442fc41c2b86b821562f.png',\n",
       "       'size': 'large'},\n",
       "      {'#text': 'https://lastfm.freetls.fastly.net/i/u/300x300/2a96cbd8b46e442fc41c2b86b821562f.png',\n",
       "       'size': 'extralarge'},\n",
       "      {'#text': 'https://lastfm.freetls.fastly.net/i/u/300x300/2a96cbd8b46e442fc41c2b86b821562f.png',\n",
       "       'size': 'mega'},\n",
       "      {'#text': 'https://lastfm.freetls.fastly.net/i/u/300x300/2a96cbd8b46e442fc41c2b86b821562f.png',\n",
       "       'size': ''}]},\n",
       "    {'name': 'Dem Franchize Boyz',\n",
       "     'url': 'https://www.last.fm/music/Dem+Franchize+Boyz',\n",
       "     'image': [{'#text': 'https://lastfm.freetls.fastly.net/i/u/34s/2a96cbd8b46e442fc41c2b86b821562f.png',\n",
       "       'size': 'small'},\n",
       "      {'#text': 'https://lastfm.freetls.fastly.net/i/u/64s/2a96cbd8b46e442fc41c2b86b821562f.png',\n",
       "       'size': 'medium'},\n",
       "      {'#text': 'https://lastfm.freetls.fastly.net/i/u/174s/2a96cbd8b46e442fc41c2b86b821562f.png',\n",
       "       'size': 'large'},\n",
       "      {'#text': 'https://lastfm.freetls.fastly.net/i/u/300x300/2a96cbd8b46e442fc41c2b86b821562f.png',\n",
       "       'size': 'extralarge'},\n",
       "      {'#text': 'https://lastfm.freetls.fastly.net/i/u/300x300/2a96cbd8b46e442fc41c2b86b821562f.png',\n",
       "       'size': 'mega'},\n",
       "      {'#text': 'https://lastfm.freetls.fastly.net/i/u/300x300/2a96cbd8b46e442fc41c2b86b821562f.png',\n",
       "       'size': ''}]},\n",
       "    {'name': 'Lil Scrappy',\n",
       "     'url': 'https://www.last.fm/music/Lil+Scrappy',\n",
       "     'image': [{'#text': 'https://lastfm.freetls.fastly.net/i/u/34s/2a96cbd8b46e442fc41c2b86b821562f.png',\n",
       "       'size': 'small'},\n",
       "      {'#text': 'https://lastfm.freetls.fastly.net/i/u/64s/2a96cbd8b46e442fc41c2b86b821562f.png',\n",
       "       'size': 'medium'},\n",
       "      {'#text': 'https://lastfm.freetls.fastly.net/i/u/174s/2a96cbd8b46e442fc41c2b86b821562f.png',\n",
       "       'size': 'large'},\n",
       "      {'#text': 'https://lastfm.freetls.fastly.net/i/u/300x300/2a96cbd8b46e442fc41c2b86b821562f.png',\n",
       "       'size': 'extralarge'},\n",
       "      {'#text': 'https://lastfm.freetls.fastly.net/i/u/300x300/2a96cbd8b46e442fc41c2b86b821562f.png',\n",
       "       'size': 'mega'},\n",
       "      {'#text': 'https://lastfm.freetls.fastly.net/i/u/300x300/2a96cbd8b46e442fc41c2b86b821562f.png',\n",
       "       'size': ''}]}]},\n",
       "  'tags': {'tag': [{'name': 'Crunk', 'url': 'https://www.last.fm/tag/Crunk'},\n",
       "    {'name': 'Hip-Hop', 'url': 'https://www.last.fm/tag/Hip-Hop'},\n",
       "    {'name': 'rap', 'url': 'https://www.last.fm/tag/rap'},\n",
       "    {'name': 'Dirty South', 'url': 'https://www.last.fm/tag/Dirty+South'},\n",
       "    {'name': 'hip hop', 'url': 'https://www.last.fm/tag/hip+hop'}]},\n",
       "  'bio': {'links': {'link': {'#text': '',\n",
       "     'rel': 'original',\n",
       "     'href': 'https://last.fm/music/Lil+Jon/+wiki'}},\n",
       "   'published': '28 Jul 2006, 14:04',\n",
       "   'summary': 'Jonathan Mortimer Smith (born January 27, 1971 in Atlanta, Georgia), better known by his stage name Lil Jon, is an American rapper, actor, producer and member of the crunk group Lil Jon & The East Side Boyz. Lil Jon formed the group with friends Big Sam and Lil Bo, and they released five studio albums and have had many hit songs. He\\'s prehaps best known for his iconic single \"Get Low\", which featured the Ying Yang Twins and reached #2 on the Billboard 100. He released his debut solo album, \\'Crunk Rock\\', in June 2010. <a href=\"https://www.last.fm/music/Lil+Jon\">Read more on Last.fm</a>',\n",
       "   'content': 'Jonathan Mortimer Smith (born January 27, 1971 in Atlanta, Georgia), better known by his stage name Lil Jon, is an American rapper, actor, producer and member of the crunk group Lil Jon & The East Side Boyz. Lil Jon formed the group with friends Big Sam and Lil Bo, and they released five studio albums and have had many hit songs. He\\'s prehaps best known for his iconic single \"Get Low\", which featured the Ying Yang Twins and reached #2 on the Billboard 100. He released his debut solo album, \\'Crunk Rock\\', in June 2010.\\n\\nLil Jon has also produced many hit urban singles and has made the terms \"OK!\", \"What?!\", and \"Yeah!\" a familiar calling among his friends and followers both inside and outside of the hip-hop genre. He\\'s provided guest verses in many hip-hop and rnb tracks by a wide variety of artists as well. In terms of his personal life, he married Nicole Smith in 2004. They have a son named Nathan, who was born in 1998.\\n\\nLil Jon was born and raised in Atlanta, Georgia. He worked for So So Def Recordings between 1993 and 2000.\\n\\nIn addition to leading Lil Jon & The East Side Boyz, Lil Jon has also produced many hit urban singles. From 2003 to 2005, while still with The East Side Boyz, Lil Jon produced hits like \"Salt Shaker\" by Ying Yang Twins, \"Yeah!\" by Usher, Freek-a-Leek by Petey Pablo, Shorty Wanna Ride by Young Buck, Shake That Monkey by Too $hort, Let\\'s Go by Trick Daddy, and Girlfight by Brooke Valentine. Lil Jon entered the San Francisco Bay Area hyphy music scene in 2006 with his collaborations with Bay Area rapper E-40, Lil Jon produced E-40\\'s single \"Tell Me When To Go\" and had E-40 and Atlanta rapper Sean P on his own \"Snap Yo Fingers\".\\n\\nIn 2006, Lil\\' Jon severed his negotiation with record label TVT. He vowed never to record for TVT Records again, alleging that TVT owner Steve Gottlieb was shortchanging him. He also began recording a rock music album, Crunk Rock; in May 2006 he began recording in Las Vegas, Nevada because rock band The Killers was recording its upcoming album Sam\\'s Town there.\\n\\nMTV News reported in March 2008 that Crunk Rock was taking more time to complete than Lil\\' Jon already planned. As part of TVT Records\\' 2008 bankruptcy auction, Lil\\' Jon withdrew his multi-million dollar objection to the TVT sale proceedings and agreed to TVT’s transfer of his artist agreement to The Orchard. In return, The Orchard released Lil\\' Jon from all future obligations and returned the rights to the master recordings of Crunk Rock.\\n\\nWebsite: https://myspace.com/liljon <a href=\"https://www.last.fm/music/Lil+Jon\">Read more on Last.fm</a>. User-contributed text is available under the Creative Commons By-SA License; additional terms may apply.'}}}"
      ]
     },
     "execution_count": 76,
     "metadata": {},
     "output_type": "execute_result"
    }
   ],
   "source": [
    "artist_mbid = response.json()\n",
    "artist_mbid"
   ]
  },
  {
   "cell_type": "code",
   "execution_count": 79,
   "metadata": {},
   "outputs": [
    {
     "name": "stdout",
     "output_type": "stream",
     "text": [
      "Artist: Lil Jon\n",
      "Bio: Jonathan Mortimer Smith (born January 27, 1971 in Atlanta, Georgia), better known by his stage name Lil Jon, is an American rapper, actor, producer and member of the crunk group Lil Jon & The East Side Boyz. Lil Jon formed the group with friends Big Sam and Lil Bo, and they released five studio albums and have had many hit songs. He's prehaps best known for his iconic single \"Get Low\", which featured the Ying Yang Twins and reached #2 on the Billboard 100. He released his debut solo album, 'Crunk Rock', in June 2010. <a href=\"https://www.last.fm/music/Lil+Jon\">Read more on Last.fm</a>\n"
     ]
    }
   ],
   "source": [
    "for artist in artist_mbid:\n",
    "    artist = artist_mbid['artist']\n",
    "    print(\"Artist:\", artist['name'])\n",
    "    print(\"Bio:\", artist['bio']['summary'])\n",
    "        "
   ]
  },
  {
   "cell_type": "markdown",
   "metadata": {
    "collapsed": true,
    "jupyter": {
     "outputs_hidden": true
    }
   },
   "source": [
    "## 6) Print every tag of that artist"
   ]
  },
  {
   "cell_type": "code",
   "execution_count": 88,
   "metadata": {},
   "outputs": [
    {
     "name": "stdout",
     "output_type": "stream",
     "text": [
      "Tags:\n",
      "Crunk\n",
      "Hip-Hop\n",
      "rap\n",
      "Dirty South\n",
      "hip hop\n"
     ]
    }
   ],
   "source": [
    "if 'tags' in artist:\n",
    "    tags = artist['tags']['tag']\n",
    "    print(\"Tags:\")\n",
    "    for tag in tags:\n",
    "        print(tag['name'])"
   ]
  },
  {
   "cell_type": "markdown",
   "metadata": {},
   "source": [
    "# GETTING A LITTLE CRAZY\n",
    "\n",
    "So you know your original list of musicians? I want to get tag data for ALL OF THEM. How are we going to do that?\n",
    "\n",
    "**My questions try to walk you through these steps *slowly* - print the ids, make a list, etc – but if you know what you're doing you can (even accidentally) skip ahead.**\n",
    "\n",
    "## 7) Find the mbids (again)\n",
    "\n",
    "If we have a musician with an mbid of `AAA-AAA-AAA`, we get their info from a url like `http://ws.audioscrobbler.com/blahblah/?api_key=12345&mbid=AAA-AAA-AAA`.\n",
    "\n",
    "|artist|url|\n",
    "|---|---|\n",
    "|`AAA-AAA-AAA`|`http://ws.audioscrobbler.com/blahblah/?api_key=12345&mbid=AAA-AAA-AAA`|\n",
    "|`BBB-BBB-BBB`|`http://ws.audioscrobbler.com/blahblah/?api_key=12345&mbid=BBB-BBB-BBB`|\n",
    "|`CCC-CCC-CCC`|`http://ws.audioscrobbler.com/blahblah/?api_key=12345&mbid=CCC-CCC-CCC`|\n",
    "\n",
    "I guess we should start trying to get a list of all of the mbids.\n",
    "\n",
    "**Loop through your artists, and print out the `mbid` for each artist**\n",
    "\n",
    "- *Tip: You probably need to request your artist search result data again, because you probably saved over `data` with your other API request. Maybe call it `artist_data` this time?*\n",
    "- *Tip: If the artist does NOT have an `mbid`, don't print it.*"
   ]
  },
  {
   "cell_type": "code",
   "execution_count": 89,
   "metadata": {},
   "outputs": [
    {
     "data": {
      "text/plain": [
       "<Response [200]>"
      ]
     },
     "execution_count": 89,
     "metadata": {},
     "output_type": "execute_result"
    }
   ],
   "source": [
    "import requests\n",
    "url = 'https://ws.audioscrobbler.com/2.0/?method=artist.search&artist=lil&api_key=72612eced9c9e9cecf083c42c92ff479&format=json'\n",
    "response = requests.get(url)\n",
    "response\n"
   ]
  },
  {
   "cell_type": "code",
   "execution_count": 93,
   "metadata": {},
   "outputs": [
    {
     "name": "stdout",
     "output_type": "stream",
     "text": [
      "\n",
      "\n",
      "\n",
      "\n",
      "\n",
      "\n",
      "ac9a487a-d9d2-4f27-bb23-0f4686488345\n",
      "6e0c7c0e-cba5-4c2c-a652-38f71ef5785d\n",
      "c9cd225b-4883-428e-82c2-73e0b6282fb6\n",
      "\n",
      "\n",
      "\n",
      "\n",
      "5f1adfe1-4d07-4141-b181-79e5d379d539\n",
      "\n",
      "1550f952-c91b-40d7-9b4d-d26a259ee932\n",
      "d4c7d574-c8f8-4c7e-ab45-fc612df367ca\n",
      "\n",
      "\n",
      "\n",
      "\n",
      "3268f062-6e76-480a-a384-e1dd2a276afb\n",
      "\n",
      "\n",
      "5652bb3e-f225-49de-9637-5aa1539b4a7c\n",
      "bc1b5c95-e6d6-46b5-957a-5e8908b02c1e\n",
      "\n",
      "\n",
      "\n",
      "\n"
     ]
    }
   ],
   "source": [
    "artists_mbids= response.json()\n",
    "artists_mbids\n",
    "for artist in artists_mbids['results']['artistmatches']['artist']:\n",
    "    if 'mbid' in artist:\n",
    "        mbid = artist['mbid']\n",
    "        print(mbid)\n",
    "    else:\n",
    "        mbid = 'No MBID available'\n",
    "    "
   ]
  },
  {
   "cell_type": "markdown",
   "metadata": {},
   "source": [
    "Your results should look something like\n",
    "\n",
    "```\n",
    "6e0c7c0e-cba5-4c2c-a652-38f71ef5785d\n",
    "1550f952-c91b-40d7-9b4d-d26a259ee932\n",
    "1b72331b-3a97-4981-a81c-eeee9c275d28\n",
    "5f1adfe1-4d07-4141-b181-79e5d379d539\n",
    "a95384b1-6aec-468c-ae0d-8c6daf87c4c2\n",
    "bc1b5c95-e6d6-46b5-957a-5e8908b02c1e\n",
    "243c6f61-d83b-4459-bebd-5899df0da111\n",
    "```"
   ]
  },
  {
   "cell_type": "markdown",
   "metadata": {},
   "source": [
    "## 8) Saving those mbids\n",
    "\n",
    "For those `mbid` values, instead of printing them out, save them to a new list of just mbid values. Call this list `mbids`.\n",
    "\n",
    "- *Tip: Use `.append` to add a single element onto a list*"
   ]
  },
  {
   "cell_type": "code",
   "execution_count": 108,
   "metadata": {},
   "outputs": [
    {
     "name": "stdout",
     "output_type": "stream",
     "text": [
      "['', '', '', '', '', '', 'ac9a487a-d9d2-4f27-bb23-0f4686488345', '6e0c7c0e-cba5-4c2c-a652-38f71ef5785d', 'c9cd225b-4883-428e-82c2-73e0b6282fb6', '', '', '', '', '5f1adfe1-4d07-4141-b181-79e5d379d539', '', '1550f952-c91b-40d7-9b4d-d26a259ee932', 'd4c7d574-c8f8-4c7e-ab45-fc612df367ca', '', '', '', '', '3268f062-6e76-480a-a384-e1dd2a276afb', '', '', '5652bb3e-f225-49de-9637-5aa1539b4a7c', 'bc1b5c95-e6d6-46b5-957a-5e8908b02c1e', '', '', '', '']\n"
     ]
    }
   ],
   "source": [
    "mbids = []\n",
    "\n",
    "for artist in artists_mbids['results']['artistmatches']['artist']:\n",
    "    if 'mbid' in artist:\n",
    "        mbids.append(artist['mbid'])\n",
    "    else:\n",
    "        mbids.append('No MBID available')\n",
    "\n",
    "print(mbids)"
   ]
  },
  {
   "cell_type": "markdown",
   "metadata": {},
   "source": [
    "Your results should look something like\n",
    "\n",
    "```['6e0c7c0e-cba5-4c2c-a652-38f71ef5785d',\n",
    " '1550f952-c91b-40d7-9b4d-d26a259ee932',\n",
    " '1b72331b-3a97-4981-a81c-eeee9c275d28',\n",
    " '5f1adfe1-4d07-4141-b181-79e5d379d539',\n",
    " 'a95384b1-6aec-468c-ae0d-8c6daf87c4c2',\n",
    " 'bc1b5c95-e6d6-46b5-957a-5e8908b02c1e',\n",
    " '243c6f61-d83b-4459-bebd-5899df0da111',\n",
    " '8ba17cf6-bec2-4ae4-9820-b1cda47adc08',\n",
    " 'ad29ae1c-2eda-4071-9dc8-31910e7e546c',\n",
    " '3268f062-6e76-480a-a384-e1dd2a276afb',\n",
    " '3ad4f6ec-253f-4050-8849-ca26266edfb8',\n",
    " '9b5ce0c1-1bc0-4ea2-a8d3-f5ee7af9eda8',\n",
    " '981d39fc-bd00-4cc6-ac67-6410f8b89098',\n",
    " 'b89f4c50-72f5-48ce-b08c-a643b191b24f',\n",
    " 'bc21df5c-3d79-479b-b638-8ddb5ecea403',\n",
    " 'c9cd225b-4883-428e-82c2-73e0b6282fb6',\n",
    " '9acaf734-b380-4c48-954c-a2cf1d7990a9',\n",
    " 'd4d5ae85-700c-4a55-8a39-7f923da07ef2',\n",
    " '77fafce8-a32f-4d42-bdce-266bbf913cee',\n",
    " '50ad1cde-1536-4268-a55f-e47a7b8280ab',\n",
    " '9803d120-716d-45ba-9eb7-9a120813f908',\n",
    " 'b27560ea-2783-4a91-be45-9e8711917562',\n",
    " '194e87c9-b3fe-4fbd-82a7-8c54b4dd4c76',\n",
    " 'fd90af91-ed07-4e85-8816-26c954fe5286',\n",
    " '5652bb3e-f225-49de-9637-5aa1539b4a7c']```"
   ]
  },
  {
   "cell_type": "markdown",
   "metadata": {},
   "source": [
    "## 9) Printing our API urls\n",
    "\n",
    "To get tag data for each artist, you need to use those `mbid` values to access their artist page on the API. Loop through the mbids, displying the URL you'll need to access.\n",
    "\n",
    "- *Tip: You don't want to use a comma when printing, because commas add spaces into your text and URLs can't have that*\n",
    "- *Tip: Make sure your URL has `artist.getinfo` in it - if not, you're using the wrong endpoint.*"
   ]
  },
  {
   "cell_type": "code",
   "execution_count": 118,
   "metadata": {},
   "outputs": [
    {
     "name": "stdout",
     "output_type": "stream",
     "text": [
      "No MBID available, cannot construct URL\n",
      "No MBID available, cannot construct URL\n",
      "No MBID available, cannot construct URL\n",
      "No MBID available, cannot construct URL\n",
      "No MBID available, cannot construct URL\n",
      "No MBID available, cannot construct URL\n",
      "http://ws.audioscrobbler.com/2.0/?method=artist.getinfo&api_key=72612eced9c9e9cecf083c42c92ff479&mbid=ac9a487a-d9d2-4f27-bb23-0f4686488345&format=json\n",
      "http://ws.audioscrobbler.com/2.0/?method=artist.getinfo&api_key=72612eced9c9e9cecf083c42c92ff479&mbid=6e0c7c0e-cba5-4c2c-a652-38f71ef5785d&format=json\n",
      "http://ws.audioscrobbler.com/2.0/?method=artist.getinfo&api_key=72612eced9c9e9cecf083c42c92ff479&mbid=c9cd225b-4883-428e-82c2-73e0b6282fb6&format=json\n",
      "No MBID available, cannot construct URL\n",
      "No MBID available, cannot construct URL\n",
      "No MBID available, cannot construct URL\n",
      "No MBID available, cannot construct URL\n",
      "http://ws.audioscrobbler.com/2.0/?method=artist.getinfo&api_key=72612eced9c9e9cecf083c42c92ff479&mbid=5f1adfe1-4d07-4141-b181-79e5d379d539&format=json\n",
      "No MBID available, cannot construct URL\n",
      "http://ws.audioscrobbler.com/2.0/?method=artist.getinfo&api_key=72612eced9c9e9cecf083c42c92ff479&mbid=1550f952-c91b-40d7-9b4d-d26a259ee932&format=json\n",
      "http://ws.audioscrobbler.com/2.0/?method=artist.getinfo&api_key=72612eced9c9e9cecf083c42c92ff479&mbid=d4c7d574-c8f8-4c7e-ab45-fc612df367ca&format=json\n",
      "No MBID available, cannot construct URL\n",
      "No MBID available, cannot construct URL\n",
      "No MBID available, cannot construct URL\n",
      "No MBID available, cannot construct URL\n",
      "http://ws.audioscrobbler.com/2.0/?method=artist.getinfo&api_key=72612eced9c9e9cecf083c42c92ff479&mbid=3268f062-6e76-480a-a384-e1dd2a276afb&format=json\n",
      "No MBID available, cannot construct URL\n",
      "No MBID available, cannot construct URL\n",
      "http://ws.audioscrobbler.com/2.0/?method=artist.getinfo&api_key=72612eced9c9e9cecf083c42c92ff479&mbid=5652bb3e-f225-49de-9637-5aa1539b4a7c&format=json\n",
      "http://ws.audioscrobbler.com/2.0/?method=artist.getinfo&api_key=72612eced9c9e9cecf083c42c92ff479&mbid=bc1b5c95-e6d6-46b5-957a-5e8908b02c1e&format=json\n",
      "No MBID available, cannot construct URL\n",
      "No MBID available, cannot construct URL\n",
      "No MBID available, cannot construct URL\n",
      "No MBID available, cannot construct URL\n"
     ]
    }
   ],
   "source": [
    "for mbid in mbids:\n",
    "    if mbid and mbid != 'No MBID available':  \n",
    "        api_url = f'http://ws.audioscrobbler.com/2.0/?method=artist.getinfo&api_key=72612eced9c9e9cecf083c42c92ff479&mbid={mbid}&format=json'\n",
    "        print(api_url)\n",
    "    else:\n",
    "        print(\"No MBID available, cannot construct URL\")\n"
   ]
  },
  {
   "cell_type": "markdown",
   "metadata": {},
   "source": [
    "Your results should look something like\n",
    "\n",
    "```http://ws.audioscrobbler.com/2.0/?method=artist.getinfo&api_key=XXXXX&format=json&mbid=6e0c7c0e-cba5-4c2c-a652-38f71ef5785d\n",
    "http://ws.audioscrobbler.com/2.0/?method=artist.getinfo&api_key=XXXXX&format=json&mbid=1550f952-c91b-40d7-9b4d-d26a259ee932\n",
    "http://ws.audioscrobbler.com/2.0/?method=artist.getinfo&api_key=XXXXX&format=json&mbid=1b72331b-3a97-4981-a81c-eeee9c275d28\n",
    "http://ws.audioscrobbler.com/2.0/?method=artist.getinfo&api_key=XXXXX&format=json&mbid=5f1adfe1-4d07-4141-b181-79e5d379d539\n",
    "http://ws.audioscrobbler.com/2.0/?method=artist.getinfo&api_key=XXXXX&format=json&mbid=a95384b1-6aec-468c-ae0d-8c6daf87c4c2\n",
    "http://ws.audioscrobbler.com/2.0/?method=artist.getinfo&api_key=XXXXX&format=json&mbid=bc1b5c95-e6d6-46b5-957a-5e8908b02c1e```"
   ]
  },
  {
   "cell_type": "markdown",
   "metadata": {},
   "source": [
    "## OKAY HERE IS A LITTLE INFORMATION: Using our API urls\n",
    "\n",
    "This time instead of just *displaying* the URL, we're going to *request and process it*. **But first I'm going to teach you something.**\n",
    "\n",
    "When you're dealing with an API, you don't want to make a million requests, have bad code, and then need to do those million requests again. It's usually best to test your code with a few of the results first.\n",
    "\n",
    "So, if we have a list of numbers like this:"
   ]
  },
  {
   "cell_type": "code",
   "execution_count": 103,
   "metadata": {},
   "outputs": [
    {
     "data": {
      "text/plain": [
       "[4, 5, 6, 7]"
      ]
     },
     "execution_count": 103,
     "metadata": {},
     "output_type": "execute_result"
    }
   ],
   "source": [
    "numbers = [4, 5, 6, 7]\n",
    "numbers"
   ]
  },
  {
   "cell_type": "markdown",
   "metadata": {},
   "source": [
    "You can actually say to Python, **give me the first two**, and it will only give you the first two."
   ]
  },
  {
   "cell_type": "code",
   "execution_count": 104,
   "metadata": {},
   "outputs": [
    {
     "data": {
      "text/plain": [
       "[4, 5]"
      ]
     },
     "execution_count": 104,
     "metadata": {},
     "output_type": "execute_result"
    }
   ],
   "source": [
    "numbers[:2]"
   ]
  },
  {
   "cell_type": "markdown",
   "metadata": {},
   "source": [
    "The is **very convenient** with loopng with APIs, because instead of trying to use all FIFTY artists, you can just say \"hey, please try this out with 2 of them\" and you don't waste time."
   ]
  },
  {
   "cell_type": "markdown",
   "metadata": {},
   "source": [
    "## 10) Using the first three `mbids`, request the API urls and print the artist's name.\n",
    "\n",
    "You built the URLs in the last question, now it's time to use them! Use `requests` etc to grab the URL and get out the artist's name.\n",
    "\n",
    "- *Tip: The code is the same as last time you got an artist's name from their info page, it's just going to be inside of a loop*\n",
    "- *Tip: USE `PRINT` TO SEE WHAT YOU ARE LOOKING AT!!!!!*"
   ]
  },
  {
   "cell_type": "code",
   "execution_count": 124,
   "metadata": {},
   "outputs": [
    {
     "name": "stdout",
     "output_type": "stream",
     "text": [
      "Artist name: Lil Wayne\n",
      "Artist name: Lily Allen\n",
      "Artist name: Lil Durk\n"
     ]
    }
   ],
   "source": [
    "for mbid in mbids[6:9]: \n",
    "        api_url = f'http://ws.audioscrobbler.com/2.0/?method=artist.getinfo&api_key=72612eced9c9e9cecf083c42c92ff479&mbid={mbid}&format=json'\n",
    "        response = requests.get(api_url)\n",
    "        artist_data = response.json()       \n",
    "        if 'artist' in artist_data:\n",
    "            artist_name = artist_data['artist']['name']\n",
    "            print(f\"Artist name: {artist_name}\")\n",
    "        else:\n",
    "            print(\"No data found for this artist in the slice.\")"
   ]
  },
  {
   "cell_type": "markdown",
   "metadata": {},
   "source": [
    "## 11) Using the first three `mbids`, request the API urls and print the artist's name and their tags\n",
    "\n",
    "- *Tip: The code is the same as last time you got an artist's name from their info page, it's just going to be inside of a loop*\n",
    "- *Tip: It's a for loop in a for loop!*"
   ]
  },
  {
   "cell_type": "code",
   "execution_count": 126,
   "metadata": {},
   "outputs": [
    {
     "name": "stdout",
     "output_type": "stream",
     "text": [
      "Artist name: Lil Wayne\n",
      "Tags:\n",
      "rap\n",
      "Hip-Hop\n",
      "hip hop\n",
      "Gangsta Rap\n",
      "Dirty South\n",
      "Artist name: Lily Allen\n",
      "Tags:\n",
      "pop\n",
      "female vocalists\n",
      "british\n",
      "britpop\n",
      "singer-songwriter\n",
      "Artist name: Lil Durk\n",
      "Tags:\n",
      "rap\n",
      "Hip-Hop\n",
      "drill\n",
      "trap\n",
      "hip hop\n"
     ]
    }
   ],
   "source": [
    "for mbid in mbids[6:9]: \n",
    "    api_url = f'http://ws.audioscrobbler.com/2.0/?method=artist.getinfo&api_key=72612eced9c9e9cecf083c42c92ff479&mbid={mbid}&format=json'\n",
    "    response = requests.get(api_url)\n",
    "    artist_data = response.json()       \n",
    "\n",
    "    if 'artist' in artist_data:\n",
    "        artist_name = artist_data['artist']['name']\n",
    "        print(f\"Artist name: {artist_name}\")\n",
    "\n",
    "        if 'tags' in artist_data['artist']:\n",
    "            tags = artist_data['artist']['tags']['tag']\n",
    "            print(\"Tags:\")\n",
    "            for tag in tags:\n",
    "                print(tag['name'])\n",
    "\n",
    "\n",
    "            "
   ]
  },
  {
   "cell_type": "markdown",
   "metadata": {},
   "source": [
    "## 12) Using the first ten mbids, print the artist's name and whether they're a rapper\n",
    "\n",
    "Only print their name ONCE and only print whether they are hip hop or not ONCE.\n",
    "\n",
    "- *Tip: Rap tags include hip hop, swag, crunk, rap, dirty south, and probably a bunch of other stuff! You can include as many categories as you'd like.*\n",
    "- *Tip: You can use `2 in [1, 2, 3]` to find out if `2` is in the list of `[1, 2, 3]`.*\n",
    "- *Tip: Every time you look at a new artist, you can say they are NOT a rapper. And once you find out one of their tags is hip hop or rap, then you can note that they're a rapper. Then once you're done looking at their tags, then you can say HEY this is a rapper, or HEY this is not a rapper.*"
   ]
  },
  {
   "cell_type": "code",
   "execution_count": 129,
   "metadata": {},
   "outputs": [
    {
     "name": "stdout",
     "output_type": "stream",
     "text": [
      "Lil Wayne\n",
      "Lil Wayne is a rapper.\n",
      "Lily Allen\n",
      "Lily Allen is not a rapper.\n",
      "Lil Durk\n",
      "Lil Durk is a rapper.\n"
     ]
    }
   ],
   "source": [
    "for mbid in mbids[:10]:\n",
    "    api_url = f'http://ws.audioscrobbler.com/2.0/?method=artist.getinfo&api_key=72612eced9c9e9cecf083c42c92ff479&mbid={mbid}&format=json'\n",
    "    response = requests.get(api_url)\n",
    "    artist_data = response.json()\n",
    "\n",
    "    if 'artist' in artist_data:\n",
    "        artist_name = artist_data['artist']['name']\n",
    "        print(artist_name)\n",
    "        artist = artist_data['artist']\n",
    "\n",
    "        if 'tags' in artist:\n",
    "            tags = artist['tags']\n",
    "\n",
    "            if 'tag' in tags:\n",
    "                tag_list = tags['tag']\n",
    "\n",
    "                if any(tag['name'].lower() in ['rap', 'hip hop'] for tag in tag_list):\n",
    "                    print(f\"{artist_name} is a rapper.\")\n",
    "                else:\n",
    "                    print(f\"{artist_name} is not a rapper.\")\n"
   ]
  },
  {
   "cell_type": "markdown",
   "metadata": {},
   "source": [
    "Your results might look something like\n",
    "\n",
    "```ARTIST: Lily Allen\n",
    "NO hip hop\n",
    "ARTIST: Lil B\n",
    "YES hip hop\n",
    "ARTIST: Lilly Wood & The Prick\n",
    "NO hip hop\n",
    "ARTIST: Lil Ugly Mane\n",
    "YES hip hop\n",
    "ARTIST: Lil Jon\n",
    "YES hip hop\n",
    "ARTIST: Lil' Kim\n",
    "YES hip hop\n",
    "ARTIST: Lil Jon & The East Side Boyz\n",
    "YES hip hop\n",
    "```"
   ]
  },
  {
   "cell_type": "markdown",
   "metadata": {
    "collapsed": true,
    "jupyter": {
     "outputs_hidden": true
    }
   },
   "source": [
    "## 13) What percent of \"lil\" results are rappers?"
   ]
  },
  {
   "cell_type": "code",
   "execution_count": 131,
   "metadata": {},
   "outputs": [
    {
     "name": "stdout",
     "output_type": "stream",
     "text": [
      "Percentage of 'lil' artists that are rappers: 55.55555555555556\n"
     ]
    }
   ],
   "source": [
    "lil_artists = []\n",
    "rapper_count = 0\n",
    "for mbid in mbids:  \n",
    "    api_url = f'http://ws.audioscrobbler.com/2.0/?method=artist.getinfo&api_key=72612eced9c9e9cecf083c42c92ff479&mbid={mbid}&format=json'\n",
    "    response = requests.get(api_url)\n",
    "    artist_data = response.json()\n",
    "    if 'artist' in artist_data:\n",
    "        artist_name = artist_data['artist']['name']\n",
    "        if 'lil' in artist_name.lower(): \n",
    "            lil_artists.append(artist_name)\n",
    "            artist = artist_data['artist']\n",
    "\n",
    "            if 'tags' in artist:\n",
    "                tags = artist['tags']\n",
    "\n",
    "                if 'tag' in tags:\n",
    "                    tag_list = tags['tag']\n",
    "                    if any(tag['name'].lower() in ['rap', 'hip hop'] for tag in tag_list):  # Check if the artist is a rapper\n",
    "                        rapper_count += 1\n",
    "\n",
    "if len(lil_artists) > 0:\n",
    "    percentage_rapper = (rapper_count / len(lil_artists)) * 100\n",
    "    print(\"Percentage of 'lil' artists that are rappers:\", percentage_rapper)\n",
    "else:\n",
    "    print(\"No 'lil' artists found.\")\n"
   ]
  },
  {
   "cell_type": "markdown",
   "metadata": {},
   "source": [
    "## 14) Seriously you are all-powerful now."
   ]
  },
  {
   "cell_type": "code",
   "execution_count": null,
   "metadata": {},
   "outputs": [],
   "source": []
  }
 ],
 "metadata": {
  "kernelspec": {
   "display_name": "Python 3 (ipykernel)",
   "language": "python",
   "name": "python3"
  },
  "language_info": {
   "codemirror_mode": {
    "name": "ipython",
    "version": 3
   },
   "file_extension": ".py",
   "mimetype": "text/x-python",
   "name": "python",
   "nbconvert_exporter": "python",
   "pygments_lexer": "ipython3",
   "version": "3.12.7"
  }
 },
 "nbformat": 4,
 "nbformat_minor": 4
}
